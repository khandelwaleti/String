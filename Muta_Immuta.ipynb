{
 "cells": [
  {
   "cell_type": "code",
   "execution_count": 1,
   "id": "fd817adb-1829-4cdd-ba03-49a40e61709d",
   "metadata": {},
   "outputs": [],
   "source": [
    "a=6"
   ]
  },
  {
   "cell_type": "code",
   "execution_count": 2,
   "id": "4a1c8375-f6aa-4fe6-bd59-372c2734cb29",
   "metadata": {},
   "outputs": [
    {
     "data": {
      "text/plain": [
       "6"
      ]
     },
     "execution_count": 2,
     "metadata": {},
     "output_type": "execute_result"
    }
   ],
   "source": [
    "a #A memory, a memory block is created wiuth refernce a and value 6"
   ]
  },
  {
   "cell_type": "code",
   "execution_count": 4,
   "id": "4b4e625f-fa97-4d7e-b633-6cecbcdfe494",
   "metadata": {},
   "outputs": [],
   "source": [
    "b=\"Aman\""
   ]
  },
  {
   "cell_type": "code",
   "execution_count": 6,
   "id": "005cb975-1bfd-4da8-ac74-604455307c27",
   "metadata": {},
   "outputs": [
    {
     "data": {
      "text/plain": [
       "'Aman'"
      ]
     },
     "execution_count": 6,
     "metadata": {},
     "output_type": "execute_result"
    }
   ],
   "source": [
    "b"
   ]
  },
  {
   "cell_type": "code",
   "execution_count": 7,
   "id": "880653e8-cce7-4cef-ab1f-b6b0468862bf",
   "metadata": {},
   "outputs": [
    {
     "data": {
      "text/plain": [
       "'A'"
      ]
     },
     "execution_count": 7,
     "metadata": {},
     "output_type": "execute_result"
    }
   ],
   "source": [
    "b[0]"
   ]
  },
  {
   "cell_type": "code",
   "execution_count": 8,
   "id": "b78909ef-0e24-49ae-91e0-4ed966c01196",
   "metadata": {},
   "outputs": [
    {
     "data": {
      "text/plain": [
       "'a'"
      ]
     },
     "execution_count": 8,
     "metadata": {},
     "output_type": "execute_result"
    }
   ],
   "source": [
    "b[2]"
   ]
  },
  {
   "cell_type": "code",
   "execution_count": 9,
   "id": "d3ea0b08-6aea-42b1-a39f-148eae8d5d2c",
   "metadata": {},
   "outputs": [
    {
     "data": {
      "text/plain": [
       "'a'"
      ]
     },
     "execution_count": 9,
     "metadata": {},
     "output_type": "execute_result"
    }
   ],
   "source": [
    "b[-2]"
   ]
  },
  {
   "cell_type": "code",
   "execution_count": 12,
   "id": "1d3312fd-6f19-477f-aaa2-b8c27e0adde2",
   "metadata": {},
   "outputs": [],
   "source": [
    "#another type  of data container\n",
    "list_cont=[1,2,3,4.5,True, \"Aman\"]"
   ]
  },
  {
   "cell_type": "code",
   "execution_count": 13,
   "id": "615f1059-0ae0-4d7f-9479-e75aa9285709",
   "metadata": {},
   "outputs": [
    {
     "data": {
      "text/plain": [
       "[1, 2, 3, 4.5, True, 'Aman']"
      ]
     },
     "execution_count": 13,
     "metadata": {},
     "output_type": "execute_result"
    }
   ],
   "source": [
    "list_cont #list container is the type of conytainer that can store all type of data types in it."
   ]
  },
  {
   "cell_type": "code",
   "execution_count": 15,
   "id": "871434dc-18a2-4289-9e9e-eb9085461641",
   "metadata": {},
   "outputs": [
    {
     "data": {
      "text/plain": [
       "2"
      ]
     },
     "execution_count": 15,
     "metadata": {},
     "output_type": "execute_result"
    }
   ],
   "source": [
    "list_cont[1]"
   ]
  },
  {
   "cell_type": "code",
   "execution_count": 17,
   "id": "e3180a63-d893-48db-8735-446b63068257",
   "metadata": {},
   "outputs": [
    {
     "data": {
      "text/plain": [
       "'Aman'"
      ]
     },
     "execution_count": 17,
     "metadata": {},
     "output_type": "execute_result"
    }
   ],
   "source": [
    "list_cont[5]"
   ]
  },
  {
   "cell_type": "code",
   "execution_count": 20,
   "id": "dd9ca1cb-e6f2-4a91-af29-18e3f1db3191",
   "metadata": {},
   "outputs": [
    {
     "data": {
      "text/plain": [
       "list"
      ]
     },
     "execution_count": 20,
     "metadata": {},
     "output_type": "execute_result"
    }
   ],
   "source": [
    "type(list_cont)"
   ]
  },
  {
   "cell_type": "code",
   "execution_count": 21,
   "id": "9183ed45-4328-41c2-8ca1-35ec5544cd0d",
   "metadata": {},
   "outputs": [
    {
     "data": {
      "text/plain": [
       "'Aman'"
      ]
     },
     "execution_count": 21,
     "metadata": {},
     "output_type": "execute_result"
    }
   ],
   "source": [
    "list_cont[-1]"
   ]
  },
  {
   "cell_type": "code",
   "execution_count": 23,
   "id": "2a3e607f-60da-4054-87eb-f10b5abcba90",
   "metadata": {},
   "outputs": [
    {
     "data": {
      "text/plain": [
       "'Aman'"
      ]
     },
     "execution_count": 23,
     "metadata": {},
     "output_type": "execute_result"
    }
   ],
   "source": [
    "#MUTABILITY\n",
    "list_cont[5]"
   ]
  },
  {
   "cell_type": "code",
   "execution_count": 24,
   "id": "cfd08fea-8cb5-4d13-9835-e74ec408e1e4",
   "metadata": {},
   "outputs": [],
   "source": [
    "list_cont[5]=\"Eti\""
   ]
  },
  {
   "cell_type": "code",
   "execution_count": 25,
   "id": "1c211b55-ea47-4903-bb3b-15583ef9c6a0",
   "metadata": {},
   "outputs": [
    {
     "data": {
      "text/plain": [
       "[1, 2, 3, 4.5, True, 'Eti']"
      ]
     },
     "execution_count": 25,
     "metadata": {},
     "output_type": "execute_result"
    }
   ],
   "source": [
    "list_cont"
   ]
  },
  {
   "cell_type": "code",
   "execution_count": 26,
   "id": "6f1ca01a-812c-4bc3-a6ce-f592912fa075",
   "metadata": {},
   "outputs": [
    {
     "data": {
      "text/plain": [
       "'Eti'"
      ]
     },
     "execution_count": 26,
     "metadata": {},
     "output_type": "execute_result"
    }
   ],
   "source": [
    "list_cont[5]"
   ]
  },
  {
   "cell_type": "code",
   "execution_count": 27,
   "id": "09f2ad83-c545-4c6b-b087-cc485be719b8",
   "metadata": {},
   "outputs": [
    {
     "data": {
      "text/plain": [
       "2"
      ]
     },
     "execution_count": 27,
     "metadata": {},
     "output_type": "execute_result"
    }
   ],
   "source": [
    "list_cont[1]"
   ]
  },
  {
   "cell_type": "code",
   "execution_count": 29,
   "id": "f2ea88af-f07a-4d08-973b-68aa4b66ccab",
   "metadata": {},
   "outputs": [],
   "source": [
    "list_cont[2]=10+8j"
   ]
  },
  {
   "cell_type": "code",
   "execution_count": 30,
   "id": "eaedf5dc-e23f-43ca-ad9c-08751d287ec2",
   "metadata": {},
   "outputs": [
    {
     "data": {
      "text/plain": [
       "[1, 2, (10+8j), 4.5, True, 'Eti']"
      ]
     },
     "execution_count": 30,
     "metadata": {},
     "output_type": "execute_result"
    }
   ],
   "source": [
    "list_cont"
   ]
  },
  {
   "cell_type": "code",
   "execution_count": 31,
   "id": "393cff2c-bdf2-430c-ac25-3d5a592fc4fd",
   "metadata": {},
   "outputs": [
    {
     "data": {
      "text/plain": [
       "(10+8j)"
      ]
     },
     "execution_count": 31,
     "metadata": {},
     "output_type": "execute_result"
    }
   ],
   "source": [
    "list_cont[2]"
   ]
  },
  {
   "cell_type": "code",
   "execution_count": 32,
   "id": "50bd5223-bb77-4973-8076-b651062df388",
   "metadata": {},
   "outputs": [],
   "source": [
    "#objects/containers whose state or values can be changed after they are created are called as Mutable \n",
    "#objects or containers, also called as item assignment\n",
    "#List is a type of mutable objects/containers that support item assignment"
   ]
  },
  {
   "cell_type": "code",
   "execution_count": 33,
   "id": "cbc3ca65-059d-4fc7-a18e-e130cd228e51",
   "metadata": {},
   "outputs": [],
   "source": [
    "a=\"Eti\""
   ]
  },
  {
   "cell_type": "code",
   "execution_count": 34,
   "id": "31840e09-695e-4dcc-92ce-0bfef9fbfdcb",
   "metadata": {},
   "outputs": [
    {
     "data": {
      "text/plain": [
       "'Eti'"
      ]
     },
     "execution_count": 34,
     "metadata": {},
     "output_type": "execute_result"
    }
   ],
   "source": [
    "a"
   ]
  },
  {
   "cell_type": "code",
   "execution_count": 35,
   "id": "bc0e27cf-3bca-4e1f-bf3d-ed2b0cb74fca",
   "metadata": {},
   "outputs": [
    {
     "data": {
      "text/plain": [
       "'E'"
      ]
     },
     "execution_count": 35,
     "metadata": {},
     "output_type": "execute_result"
    }
   ],
   "source": [
    "a[0]"
   ]
  },
  {
   "cell_type": "code",
   "execution_count": 36,
   "id": "c11ca467-a181-4e5d-9b13-664bbf0303aa",
   "metadata": {},
   "outputs": [
    {
     "ename": "TypeError",
     "evalue": "'str' object does not support item assignment",
     "output_type": "error",
     "traceback": [
      "\u001b[1;31m---------------------------------------------------------------------------\u001b[0m",
      "\u001b[1;31mTypeError\u001b[0m                                 Traceback (most recent call last)",
      "Cell \u001b[1;32mIn[36], line 1\u001b[0m\n\u001b[1;32m----> 1\u001b[0m \u001b[43ma\u001b[49m\u001b[43m[\u001b[49m\u001b[38;5;241;43m0\u001b[39;49m\u001b[43m]\u001b[49m\u001b[38;5;241m=\u001b[39m\u001b[38;5;124m\"\u001b[39m\u001b[38;5;124mA\u001b[39m\u001b[38;5;124m\"\u001b[39m\n",
      "\u001b[1;31mTypeError\u001b[0m: 'str' object does not support item assignment"
     ]
    }
   ],
   "source": [
    "a[0]=\"A\""
   ]
  },
  {
   "cell_type": "code",
   "execution_count": 37,
   "id": "33e58ee4-76be-4d4c-8fe9-3df1e1f71264",
   "metadata": {},
   "outputs": [],
   "source": [
    "#list is called as mutable object and string is called as IMMUtable object.\n",
    "#objects/containers whose state or values can not be changed after they are created are called as IMMutable \n",
    "#objects or containers.\n",
    "#String is a type of immutable objects/does not containers that support item assignment"
   ]
  },
  {
   "cell_type": "code",
   "execution_count": null,
   "id": "baab8bc5-0691-448c-8df8-e12e7d10b8d0",
   "metadata": {},
   "outputs": [],
   "source": []
  }
 ],
 "metadata": {
  "kernelspec": {
   "display_name": "Python 3 (ipykernel)",
   "language": "python",
   "name": "python3"
  },
  "language_info": {
   "codemirror_mode": {
    "name": "ipython",
    "version": 3
   },
   "file_extension": ".py",
   "mimetype": "text/x-python",
   "name": "python",
   "nbconvert_exporter": "python",
   "pygments_lexer": "ipython3",
   "version": "3.12.5"
  }
 },
 "nbformat": 4,
 "nbformat_minor": 5
}
