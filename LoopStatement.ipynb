{
 "cells": [
  {
   "cell_type": "code",
   "execution_count": 1,
   "id": "4325dc37-c2c9-4cc7-b3bf-08eacb9727b7",
   "metadata": {},
   "outputs": [],
   "source": [
    "#Loop Statement >> It allows you to execute a block of code repeatedly.\n",
    "#Loop types>> While lolop and For loop."
   ]
  },
  {
   "cell_type": "code",
   "execution_count": 3,
   "id": "36d30b51-40ec-4935-85b0-c44b5b9f5fa8",
   "metadata": {},
   "outputs": [],
   "source": [
    "#WHILE LOOP>> It repeatedly executes a block of code  until a condiution is met.\n",
    "#SYNTAX\n",
    "#while condition:\n",
    "#  block of code\n",
    "#\n",
    "#>> it is kepword used for while loop\n"
   ]
  },
  {
   "cell_type": "code",
   "execution_count": 6,
   "id": "8e9d07df-cf7f-44d3-94fe-2f6233f9ebfc",
   "metadata": {},
   "outputs": [
    {
     "name": "stdout",
     "output_type": "stream",
     "text": [
      "1\n",
      "2\n",
      "3\n",
      "4\n",
      "5\n",
      "6\n"
     ]
    }
   ],
   "source": [
    "n=7\n",
    "i=1\n",
    "while i<n:\n",
    "    print(i)\n",
    "    i=i+1"
   ]
  },
  {
   "cell_type": "code",
   "execution_count": null,
   "id": "5a154c56-3b95-468f-8b03-0b163519bf73",
   "metadata": {},
   "outputs": [],
   "source": []
  }
 ],
 "metadata": {
  "kernelspec": {
   "display_name": "Python 3 (ipykernel)",
   "language": "python",
   "name": "python3"
  },
  "language_info": {
   "codemirror_mode": {
    "name": "ipython",
    "version": 3
   },
   "file_extension": ".py",
   "mimetype": "text/x-python",
   "name": "python",
   "nbconvert_exporter": "python",
   "pygments_lexer": "ipython3",
   "version": "3.12.5"
  }
 },
 "nbformat": 4,
 "nbformat_minor": 5
}
