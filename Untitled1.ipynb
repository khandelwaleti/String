{
 "cells": [
  {
   "cell_type": "code",
   "execution_count": 1,
   "id": "f937bfd9-f448-4993-8e17-1727e23fcf76",
   "metadata": {},
   "outputs": [
    {
     "data": {
      "text/plain": [
       "'Q1. Discuss string and provide examples.\\nAns .It follows the format string[start:end], where start is the index where slicing begins\\n(inclusive) and end is the index where it ends (exclusive). For example, with the\\nstring my_string = \"Hello, World!\", if you use my_string[7:12], it will return \"World\". If\\nyou omit start, it starts from the beginning of the string.'"
      ]
     },
     "execution_count": 1,
     "metadata": {},
     "output_type": "execute_result"
    }
   ],
   "source": [
    "\"\"\"Q1. Discuss string and provide examples.\n",
    "Ans .It follows the format string[start:end], where start is the index where slicing begins\n",
    "(inclusive) and end is the index where it ends (exclusive). For example, with the\n",
    "string my_string = \"Hello, World!\", if you use my_string[7:12], it will return \"World\". If\n",
    "you omit start, it starts from the beginning of the string.\"\"\"\n"
   ]
  },
  {
   "cell_type": "code",
   "execution_count": null,
   "id": "48bd2775-5426-4f75-b0c0-0fef23baa443",
   "metadata": {},
   "outputs": [],
   "source": [
    "\"\"\"Q2. Explain the key features of lists in python.\n",
    "Ans. Lists are mutable and dynamic; list items can be added, removed or changed after\n",
    "the list is defined. Lists are ordered; newly added items will be placed at the end of\n",
    "the list. Lists use zero-based indexing; every list item has an associated index, and\n",
    "The first item's index is 0\"\"\""
   ]
  },
  {
   "cell_type": "code",
   "execution_count": null,
   "id": "ed4fc85c-4783-4900-97f4-d13c63907ce3",
   "metadata": {},
   "outputs": [],
   "source": [
    "\"\"\"Q3. Describe how to access,modify and delete elements in a list with examples.\n",
    "Ans. Python list elements are ordered by index, a number referring to their placement in\n",
    "the list. List indices start at 0 and increment by one. To access a list element by index,\n",
    "square bracket notation is used: list[index] .\n",
    "Modify an Item Within a List in Python\n",
    "1. Step 1: Create a List. To start, create a list in Python. For example: list_names =\n",
    "[\"Jon\", \"Bill\", \"Maria\", \"Jenny\", \"Jack\"] ...\n",
    "2. Step 2: Modify an Item within the list. For example, to modify the third item (index\n",
    "of 2) in the list from “Maria” to “Mona“: list_names[2] = \"Mona\"\n",
    "You can either use the del keyword or the pop() function to remove an element from a\n",
    "list in Python by its index\"\"\""
   ]
  },
  {
   "cell_type": "code",
   "execution_count": null,
   "id": "fe0bc538-838f-4fb1-98c9-5a3e55a592b8",
   "metadata": {},
   "outputs": [],
   "source": [
    "\"\"\"Q4. Compare and contrast tuples and lists with examples.\n",
    "Ans.Use a list if you need a mutable collection of items where you may need to add,\n",
    "remove, or change elements. Lists are more flexible and have more built-in methods,\n",
    "making them ideal for dynamic collections. Use a tuple if you need an immutable\n",
    "collection where the elements won't change after creation.\n",
    "\"\"\""
   ]
  },
  {
   "cell_type": "code",
   "execution_count": null,
   "id": "8dffda05-fbb7-4f85-80bf-2e1a7263c349",
   "metadata": {},
   "outputs": [],
   "source": [
    "\"\"\"Q5.Describe the key features of sets and provide examples of their uses.\n",
    "Ans.A set is represented by a capital letter symbol and the number of elements in the\n",
    "finite set is represented as the cardinal number of a set in a curly bracket {…}. For\n",
    "example, set A is a collection of all the natural numbers, such as A =\n",
    "{1,2,3,4,5,6,7,8,…..∞}. Also, check sets here\"\"\""
   ]
  },
  {
   "cell_type": "code",
   "execution_count": null,
   "id": "d72310b6-03ef-4054-ba13-f31102488724",
   "metadata": {},
   "outputs": [],
   "source": [
    "\"\"\"Q6.Discuss the use cases of tuples and sets in python programming.\n",
    "Ans.Tuples are used to store multiple items in a single variable. Tuple is one of 4 built-in\n",
    "data types in Python used to store collections of data, the other 3 are List, Set, and\n",
    "Dictionary, all with different qualities and usage. A tuple is a collection which is ordered\n",
    "and unchangeable.\n",
    "A common use of sets in Python is computing standard math operations such as union,\n",
    "intersection, difference, and symmetric difference. The image below shows a couple\n",
    "standard math operations on two sets A and B. The red part of each Venn diagram is\n",
    "the resulting set of a given set operation.\"\"\""
   ]
  },
  {
   "cell_type": "code",
   "execution_count": null,
   "id": "6519b3c5-abf4-490d-802c-179d2d0be298",
   "metadata": {},
   "outputs": [],
   "source": [
    "\"\"\"Q7. Describe how to add, modify, and delete items in a dictionary with examples.\n",
    "Ans.How to Add an Item to a Dictionary in Python\n",
    "1. Method 1: Using The Assignment Operator. ...\n",
    "2. Method 2: Using update() ...\n",
    "3. Method 3: Using dict() Constructor. ...\n",
    "4. Method 4: Using __setitem__ ...\n",
    "5. Method 5: Using The ** Operator. ...\n",
    "6. Method 6: Checking If A Key Exists. ...\n",
    "7. Method 7: Using A For Loop. ...\n",
    "8. Method 8: Using zip.\n",
    "How to modify a dictionary Python\n",
    "● To update a dictionary in Python, you can use the update() method, like dict1.\n",
    "update({'b': 3, 'c': 4}) . This method allows you to add new items or change the\n",
    "value of existing items in a Python dictionary. In this example, we have a\n",
    "dictionary dict1 with keys 'a' and 'b'.\n",
    "How to remove a key from a Python dictionary.\n",
    "To remove a key from a dictionary, you can use the del statement. Here's an example:\n",
    "my_dict = {'a': 1, 'b': 2, 'c': 3} del my_dict['b'] print(my_dict) # Output: {'a': 1, 'c': 3}\n",
    "Alternatively, yo…\"\"\""
   ]
  },
  {
   "cell_type": "code",
   "execution_count": null,
   "id": "2c0d45b8-f10b-46d9-91b2-53ef0d5dcf7a",
   "metadata": {},
   "outputs": [],
   "source": [
    "\"\"\"Q8.Discuss the importance of dictionary keys being immutable and provide\n",
    "examples.\n",
    "Ans.In a dictionary, the key part must be immutable. This means that once a key is\n",
    "created, it cannot be changed. Immutability is essential for keys because it ensures that\n",
    "the dictionary can efficiently look up values based on their keys.If the key were a\n",
    "mutable object, its value could change, and thus its hash could also change. But since\n",
    "whoever changes the key object can't tell that it was being used as a dictionary key, it\n",
    "can't move the entry around in the dictionary\"\"\""
   ]
  }
 ],
 "metadata": {
  "kernelspec": {
   "display_name": "Python 3 (ipykernel)",
   "language": "python",
   "name": "python3"
  },
  "language_info": {
   "codemirror_mode": {
    "name": "ipython",
    "version": 3
   },
   "file_extension": ".py",
   "mimetype": "text/x-python",
   "name": "python",
   "nbconvert_exporter": "python",
   "pygments_lexer": "ipython3",
   "version": "3.12.5"
  }
 },
 "nbformat": 4,
 "nbformat_minor": 5
}
