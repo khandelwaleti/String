{
 "cells": [
  {
   "cell_type": "code",
   "execution_count": 1,
   "id": "6a68dd6a-d4c4-4b67-a65b-c325ba182b2f",
   "metadata": {},
   "outputs": [
    {
     "name": "stdout",
     "output_type": "stream",
     "text": [
      "hello world\n"
     ]
    }
   ],
   "source": [
    "print('hello world')\n"
   ]
  },
  {
   "cell_type": "code",
   "execution_count": 2,
   "id": "db67f404-5d40-4703-a9a6-619e22aa3db3",
   "metadata": {},
   "outputs": [],
   "source": [
    "a=3"
   ]
  },
  {
   "cell_type": "code",
   "execution_count": 3,
   "id": "d85fa01b-f76d-404c-b133-d6a4a10e95aa",
   "metadata": {},
   "outputs": [
    {
     "data": {
      "text/plain": [
       "3"
      ]
     },
     "execution_count": 3,
     "metadata": {},
     "output_type": "execute_result"
    }
   ],
   "source": [
    "a"
   ]
  },
  {
   "cell_type": "raw",
   "id": "b97e9f3f-c83b-4149-ab52-46b65c115433",
   "metadata": {},
   "source": [
    "##Variables/ identifiers are the place holders where we keep the variety of data which we can use to write logic\n",
    "##Number>>integer/float\n",
    "##Character>>String\n",
    "##True/False>> Boolean Value\n",
    "## Nothing>>None\n",
    "##Commplex "
   ]
  },
  {
   "cell_type": "code",
   "execution_count": 4,
   "id": "23f4658a-52eb-412d-aad2-f09ed9a29e69",
   "metadata": {},
   "outputs": [],
   "source": [
    "b=3"
   ]
  },
  {
   "cell_type": "code",
   "execution_count": 5,
   "id": "ae41ff93-4767-483d-8a4a-73f762b28215",
   "metadata": {},
   "outputs": [
    {
     "data": {
      "text/plain": [
       "3"
      ]
     },
     "execution_count": 5,
     "metadata": {},
     "output_type": "execute_result"
    }
   ],
   "source": [
    "b"
   ]
  },
  {
   "cell_type": "code",
   "execution_count": 6,
   "id": "bbed057e-77e2-494f-9dce-99bb8b1f2ddb",
   "metadata": {},
   "outputs": [
    {
     "data": {
      "text/plain": [
       "int"
      ]
     },
     "execution_count": 6,
     "metadata": {},
     "output_type": "execute_result"
    }
   ],
   "source": [
    "type(a)\n"
   ]
  },
  {
   "cell_type": "code",
   "execution_count": 7,
   "id": "29ad5d6a-ebde-4dcb-8f61-40b151b8dc35",
   "metadata": {},
   "outputs": [],
   "source": [
    "b=6.7"
   ]
  },
  {
   "cell_type": "code",
   "execution_count": 8,
   "id": "f9f10271-3688-4e72-a1d1-4f4316dda812",
   "metadata": {},
   "outputs": [
    {
     "data": {
      "text/plain": [
       "6.7"
      ]
     },
     "execution_count": 8,
     "metadata": {},
     "output_type": "execute_result"
    }
   ],
   "source": [
    "b"
   ]
  },
  {
   "cell_type": "code",
   "execution_count": 9,
   "id": "fbb091e4-7fe7-44b0-bb96-e52e977b6629",
   "metadata": {},
   "outputs": [
    {
     "data": {
      "text/plain": [
       "float"
      ]
     },
     "execution_count": 9,
     "metadata": {},
     "output_type": "execute_result"
    }
   ],
   "source": [
    "type(b)"
   ]
  },
  {
   "cell_type": "code",
   "execution_count": 11,
   "id": "d703359d-fec1-49a7-b8a8-7c93cae2e7ee",
   "metadata": {},
   "outputs": [],
   "source": [
    "c= True"
   ]
  },
  {
   "cell_type": "code",
   "execution_count": 12,
   "id": "852ba699-854b-4c0d-8f36-54546bae9d5c",
   "metadata": {},
   "outputs": [
    {
     "data": {
      "text/plain": [
       "bool"
      ]
     },
     "execution_count": 12,
     "metadata": {},
     "output_type": "execute_result"
    }
   ],
   "source": [
    "type(c)\n"
   ]
  },
  {
   "cell_type": "code",
   "execution_count": 13,
   "id": "489c3f7d-8b55-46c1-aa0b-62e473965e48",
   "metadata": {},
   "outputs": [
    {
     "data": {
      "text/plain": [
       "0"
      ]
     },
     "execution_count": 13,
     "metadata": {},
     "output_type": "execute_result"
    }
   ],
   "source": [
    "True*False"
   ]
  },
  {
   "cell_type": "code",
   "execution_count": 14,
   "id": "dfdae38b-390c-442d-9be6-106e432f1264",
   "metadata": {},
   "outputs": [
    {
     "ename": "ZeroDivisionError",
     "evalue": "division by zero",
     "output_type": "error",
     "traceback": [
      "\u001b[1;31m---------------------------------------------------------------------------\u001b[0m",
      "\u001b[1;31mZeroDivisionError\u001b[0m                         Traceback (most recent call last)",
      "Cell \u001b[1;32mIn[14], line 1\u001b[0m\n\u001b[1;32m----> 1\u001b[0m \u001b[38;5;28;43;01mTrue\u001b[39;49;00m\u001b[38;5;241;43m/\u001b[39;49m\u001b[38;5;28;43;01mFalse\u001b[39;49;00m\n",
      "\u001b[1;31mZeroDivisionError\u001b[0m: division by zero"
     ]
    }
   ],
   "source": [
    "True/False"
   ]
  },
  {
   "cell_type": "code",
   "execution_count": 15,
   "id": "39631a65-d921-4434-aeee-63c53255fc6d",
   "metadata": {},
   "outputs": [],
   "source": [
    "f= None\n",
    "f"
   ]
  },
  {
   "cell_type": "code",
   "execution_count": 16,
   "id": "9d460060-16c2-4c2e-919c-5a2a1db522da",
   "metadata": {},
   "outputs": [],
   "source": [
    "f"
   ]
  },
  {
   "cell_type": "code",
   "execution_count": 18,
   "id": "223204cd-1552-42b1-a68f-3f24c5bbe7a0",
   "metadata": {},
   "outputs": [
    {
     "data": {
      "text/plain": [
       "NoneType"
      ]
     },
     "execution_count": 18,
     "metadata": {},
     "output_type": "execute_result"
    }
   ],
   "source": [
    "type(f)"
   ]
  },
  {
   "cell_type": "raw",
   "id": "712d14fc-8d5a-4907-b6ed-110a8f2799d9",
   "metadata": {},
   "source": [
    "x+iy>> complex number"
   ]
  },
  {
   "cell_type": "code",
   "execution_count": 19,
   "id": "49c1fedb-e81a-4bd3-98ef-45cc092f225e",
   "metadata": {},
   "outputs": [],
   "source": [
    "com=5+6j"
   ]
  },
  {
   "cell_type": "code",
   "execution_count": 21,
   "id": "5a8d7e8d-130e-48c9-8512-4a59d47e6d43",
   "metadata": {},
   "outputs": [
    {
     "data": {
      "text/plain": [
       "complex"
      ]
     },
     "execution_count": 21,
     "metadata": {},
     "output_type": "execute_result"
    }
   ],
   "source": [
    "type(com)"
   ]
  },
  {
   "cell_type": "code",
   "execution_count": 22,
   "id": "40aa66b8-4aa3-4bc0-bb3f-414857c35a3f",
   "metadata": {},
   "outputs": [
    {
     "data": {
      "text/plain": [
       "(5+6j)"
      ]
     },
     "execution_count": 22,
     "metadata": {},
     "output_type": "execute_result"
    }
   ],
   "source": [
    "com"
   ]
  },
  {
   "cell_type": "code",
   "execution_count": 23,
   "id": "436c0285-968b-4f40-8b1a-7191967e8d9c",
   "metadata": {},
   "outputs": [
    {
     "data": {
      "text/plain": [
       "5.0"
      ]
     },
     "execution_count": 23,
     "metadata": {},
     "output_type": "execute_result"
    }
   ],
   "source": [
    "com.real"
   ]
  },
  {
   "cell_type": "code",
   "execution_count": 25,
   "id": "6ca21457-883f-40be-9e0a-74f793f7f502",
   "metadata": {},
   "outputs": [
    {
     "data": {
      "text/plain": [
       "6.0"
      ]
     },
     "execution_count": 25,
     "metadata": {},
     "output_type": "execute_result"
    }
   ],
   "source": [
    "com.imag"
   ]
  },
  {
   "cell_type": "raw",
   "id": "f86aa526-a2f4-45e1-9951-4f7403aeba69",
   "metadata": {},
   "source": [
    "Rules of defining the variable>> A variable start with a letter (alphabet) or underscore character\n"
   ]
  },
  {
   "cell_type": "raw",
   "id": "7ee9e83e-95ac-468d-8e96-6d16d84d45e4",
   "metadata": {},
   "source": [
    "INVALID WAYS"
   ]
  },
  {
   "cell_type": "code",
   "execution_count": 26,
   "id": "909ff91c-8714-4fe0-a3cb-ff0c7d058def",
   "metadata": {},
   "outputs": [
    {
     "ename": "SyntaxError",
     "evalue": "cannot assign to literal here. Maybe you meant '==' instead of '='? (2414822714.py, line 1)",
     "output_type": "error",
     "traceback": [
      "\u001b[1;36m  Cell \u001b[1;32mIn[26], line 1\u001b[1;36m\u001b[0m\n\u001b[1;33m    5 = a\u001b[0m\n\u001b[1;37m    ^\u001b[0m\n\u001b[1;31mSyntaxError\u001b[0m\u001b[1;31m:\u001b[0m cannot assign to literal here. Maybe you meant '==' instead of '='?\n"
     ]
    }
   ],
   "source": [
    "5 = a"
   ]
  },
  {
   "cell_type": "code",
   "execution_count": 27,
   "id": "5dd7a0b4-74ef-4a79-9ceb-a2b3b685dfd2",
   "metadata": {},
   "outputs": [
    {
     "ename": "SyntaxError",
     "evalue": "cannot assign to literal here. Maybe you meant '==' instead of '='? (752986675.py, line 1)",
     "output_type": "error",
     "traceback": [
      "\u001b[1;36m  Cell \u001b[1;32mIn[27], line 1\u001b[1;36m\u001b[0m\n\u001b[1;33m    2.5 = b\u001b[0m\n\u001b[1;37m    ^\u001b[0m\n\u001b[1;31mSyntaxError\u001b[0m\u001b[1;31m:\u001b[0m cannot assign to literal here. Maybe you meant '==' instead of '='?\n"
     ]
    }
   ],
   "source": [
    "2.5 = b"
   ]
  },
  {
   "cell_type": "code",
   "execution_count": 28,
   "id": "33d311d2-4483-475a-9393-a082114571b3",
   "metadata": {},
   "outputs": [
    {
     "ename": "SyntaxError",
     "evalue": "invalid decimal literal (4088652748.py, line 1)",
     "output_type": "error",
     "traceback": [
      "\u001b[1;36m  Cell \u001b[1;32mIn[28], line 1\u001b[1;36m\u001b[0m\n\u001b[1;33m    1name=\"Ram\"\u001b[0m\n\u001b[1;37m    ^\u001b[0m\n\u001b[1;31mSyntaxError\u001b[0m\u001b[1;31m:\u001b[0m invalid decimal literal\n"
     ]
    }
   ],
   "source": [
    "1name=\"Ram\""
   ]
  },
  {
   "cell_type": "code",
   "execution_count": 39,
   "id": "405aa3aa-4680-409b-83b4-9da0d11f3d13",
   "metadata": {},
   "outputs": [
    {
     "ename": "SyntaxError",
     "evalue": "cannot assign to expression here. Maybe you meant '==' instead of '='? (2322523860.py, line 1)",
     "output_type": "error",
     "traceback": [
      "\u001b[1;36m  Cell \u001b[1;32mIn[39], line 1\u001b[1;36m\u001b[0m\n\u001b[1;33m    a-bc = \"Ram\"\u001b[0m\n\u001b[1;37m    ^\u001b[0m\n\u001b[1;31mSyntaxError\u001b[0m\u001b[1;31m:\u001b[0m cannot assign to expression here. Maybe you meant '==' instead of '='?\n"
     ]
    }
   ],
   "source": [
    "a-bc = \"Ram\""
   ]
  },
  {
   "cell_type": "code",
   "execution_count": 40,
   "id": "2f50d594-85a1-47b3-8f6e-538ca326300d",
   "metadata": {},
   "outputs": [
    {
     "ename": "SyntaxError",
     "evalue": "cannot assign to expression here. Maybe you meant '==' instead of '='? (389496499.py, line 1)",
     "output_type": "error",
     "traceback": [
      "\u001b[1;36m  Cell \u001b[1;32mIn[40], line 1\u001b[1;36m\u001b[0m\n\u001b[1;33m    Eti-Khandelwal = \"Practice\"\u001b[0m\n\u001b[1;37m    ^\u001b[0m\n\u001b[1;31mSyntaxError\u001b[0m\u001b[1;31m:\u001b[0m cannot assign to expression here. Maybe you meant '==' instead of '='?\n"
     ]
    }
   ],
   "source": [
    "Eti-Khandelwal = \"Practice\""
   ]
  },
  {
   "cell_type": "code",
   "execution_count": 44,
   "id": "42629ff3-66a7-4714-9fad-7e54da9ec9b2",
   "metadata": {},
   "outputs": [
    {
     "ename": "SyntaxError",
     "evalue": "invalid syntax. Maybe you meant '==' or ':=' instead of '='? (1095980648.py, line 1)",
     "output_type": "error",
     "traceback": [
      "\u001b[1;36m  Cell \u001b[1;32mIn[44], line 1\u001b[1;36m\u001b[0m\n\u001b[1;33m    @abc = \"Mohan\"\u001b[0m\n\u001b[1;37m     ^\u001b[0m\n\u001b[1;31mSyntaxError\u001b[0m\u001b[1;31m:\u001b[0m invalid syntax. Maybe you meant '==' or ':=' instead of '='?\n"
     ]
    }
   ],
   "source": [
    "@abc = \"Mohan\""
   ]
  },
  {
   "cell_type": "code",
   "execution_count": 45,
   "id": "8fef63c7-cc66-4e2f-8b55-9fd068274c6b",
   "metadata": {},
   "outputs": [
    {
     "name": "stderr",
     "output_type": "stream",
     "text": [
      "UsageError: Line magic function `%abc` not found.\n"
     ]
    }
   ],
   "source": [
    "%abc = 2.6"
   ]
  },
  {
   "cell_type": "raw",
   "id": "60c178af-2ffd-48bd-bc54-479ed900b485",
   "metadata": {},
   "source": [
    "VALID WAYS"
   ]
  },
  {
   "cell_type": "code",
   "execution_count": null,
   "id": "cceb2cb5-df6e-4914-ad93-223f728b6127",
   "metadata": {},
   "outputs": [],
   "source": []
  },
  {
   "cell_type": "code",
   "execution_count": 30,
   "id": "a37915f6-3b7b-4dd9-b052-707b27c1c86a",
   "metadata": {},
   "outputs": [],
   "source": [
    "name=\"Eti\""
   ]
  },
  {
   "cell_type": "code",
   "execution_count": 31,
   "id": "7427c0d5-8038-4525-9aa0-9e740b5c8e6a",
   "metadata": {},
   "outputs": [
    {
     "data": {
      "text/plain": [
       "'Eti'"
      ]
     },
     "execution_count": 31,
     "metadata": {},
     "output_type": "execute_result"
    }
   ],
   "source": [
    "name"
   ]
  },
  {
   "cell_type": "code",
   "execution_count": 32,
   "id": "aa89784c-8cdd-4ac0-bdeb-4ef0a5afccff",
   "metadata": {},
   "outputs": [],
   "source": [
    "abc=\"Khandelwal\""
   ]
  },
  {
   "cell_type": "code",
   "execution_count": 33,
   "id": "28271b19-afa0-4cf0-b14e-25a36cc1c12e",
   "metadata": {},
   "outputs": [
    {
     "data": {
      "text/plain": [
       "'Khandelwal'"
      ]
     },
     "execution_count": 33,
     "metadata": {},
     "output_type": "execute_result"
    }
   ],
   "source": [
    "abc"
   ]
  },
  {
   "cell_type": "code",
   "execution_count": 35,
   "id": "f55a5b38-5f4d-4b9b-9c26-7128a4abd819",
   "metadata": {},
   "outputs": [],
   "source": [
    "location = \"indore\""
   ]
  },
  {
   "cell_type": "code",
   "execution_count": 36,
   "id": "6a476ee2-6045-46a8-9f08-050ca47dfc82",
   "metadata": {},
   "outputs": [
    {
     "data": {
      "text/plain": [
       "'indore'"
      ]
     },
     "execution_count": 36,
     "metadata": {},
     "output_type": "execute_result"
    }
   ],
   "source": [
    "location"
   ]
  },
  {
   "cell_type": "code",
   "execution_count": 37,
   "id": "2a7f1fdf-49f9-4e9b-87ea-0f8722f683bd",
   "metadata": {},
   "outputs": [],
   "source": [
    "_name = \"Shyam\""
   ]
  },
  {
   "cell_type": "code",
   "execution_count": 38,
   "id": "93085556-31d2-4390-8ea1-309723f23c43",
   "metadata": {},
   "outputs": [
    {
     "data": {
      "text/plain": [
       "'Shyam'"
      ]
     },
     "execution_count": 38,
     "metadata": {},
     "output_type": "execute_result"
    }
   ],
   "source": [
    "_name"
   ]
  },
  {
   "cell_type": "code",
   "execution_count": null,
   "id": "d8b39015-2e32-42a8-bfce-90a85e5e5f9c",
   "metadata": {},
   "outputs": [],
   "source": []
  },
  {
   "cell_type": "code",
   "execution_count": null,
   "id": "23a34e3a-8833-4a16-b918-9f775ee808a9",
   "metadata": {},
   "outputs": [],
   "source": []
  },
  {
   "cell_type": "code",
   "execution_count": 42,
   "id": "859ea9b2-b3e9-4bb5-a143-129be1e10af8",
   "metadata": {},
   "outputs": [],
   "source": [
    "Eti_Khandelwal = \"Practice\""
   ]
  },
  {
   "cell_type": "code",
   "execution_count": 43,
   "id": "415f777e-7a2b-447e-864d-2c3f4f9cd63e",
   "metadata": {},
   "outputs": [
    {
     "data": {
      "text/plain": [
       "'Practice'"
      ]
     },
     "execution_count": 43,
     "metadata": {},
     "output_type": "execute_result"
    }
   ],
   "source": [
    "Eti_Khandelwal"
   ]
  },
  {
   "cell_type": "code",
   "execution_count": null,
   "id": "a16b56f5-15c8-4c0b-99b9-8b27ca39008f",
   "metadata": {},
   "outputs": [],
   "source": []
  },
  {
   "cell_type": "code",
   "execution_count": null,
   "id": "096ad9af-f97f-44c2-b0ce-1d9204059b49",
   "metadata": {},
   "outputs": [],
   "source": []
  },
  {
   "cell_type": "raw",
   "id": "37a94997-a50e-4785-adb2-eb376d510299",
   "metadata": {},
   "source": [
    "COMMENTS"
   ]
  },
  {
   "cell_type": "code",
   "execution_count": 47,
   "id": "8ee8e64a-7cbd-4c44-b2e1-2782ef6e52cf",
   "metadata": {},
   "outputs": [],
   "source": [
    "#this is way to define comment\n",
    "a=3\n",
    "b=5"
   ]
  },
  {
   "cell_type": "code",
   "execution_count": 48,
   "id": "15192da3-7ab3-4a2c-a66f-5aee374ada22",
   "metadata": {},
   "outputs": [],
   "source": [
    "#This is the course about variable"
   ]
  },
  {
   "cell_type": "code",
   "execution_count": 50,
   "id": "e4ee5ad1-bf3e-4f83-9811-9b236fe4fa25",
   "metadata": {},
   "outputs": [],
   "source": [
    "#This is my first line of comment\n",
    "#this is my second link of comment.\n",
    "a= 4"
   ]
  },
  {
   "cell_type": "code",
   "execution_count": 51,
   "id": "d182ac17-6c87-4a53-83bf-365babf36738",
   "metadata": {},
   "outputs": [
    {
     "data": {
      "text/plain": [
       "4"
      ]
     },
     "execution_count": 51,
     "metadata": {},
     "output_type": "execute_result"
    }
   ],
   "source": [
    "a"
   ]
  },
  {
   "cell_type": "code",
   "execution_count": 53,
   "id": "5a84baf2-b63b-4166-aa49-eb6ab2cd399c",
   "metadata": {},
   "outputs": [],
   "source": [
    "#MULTI LINE COMMENTS\n",
    "'''\n",
    "This is a multi line commenyty.\n",
    "I am practicing it.\n",
    "And trying it out.\n",
    "'''\n",
    "a=7"
   ]
  },
  {
   "cell_type": "code",
   "execution_count": 54,
   "id": "d2f45c4c-3f5e-4909-9f82-77621ac899ea",
   "metadata": {},
   "outputs": [
    {
     "data": {
      "text/plain": [
       "7"
      ]
     },
     "execution_count": 54,
     "metadata": {},
     "output_type": "execute_result"
    }
   ],
   "source": [
    "a"
   ]
  },
  {
   "cell_type": "code",
   "execution_count": 55,
   "id": "89326460-2497-450a-b166-9099c9c23eeb",
   "metadata": {},
   "outputs": [],
   "source": [
    "\"\"\"\n",
    "This is a multi line commenyty.\n",
    "I am practicing it.\n",
    "And trying it out.\n",
    "\"\"\"\n",
    "\n",
    "a=5"
   ]
  },
  {
   "cell_type": "code",
   "execution_count": 56,
   "id": "0165b1f4-9a3f-4567-8e56-629523e218eb",
   "metadata": {},
   "outputs": [
    {
     "data": {
      "text/plain": [
       "5"
      ]
     },
     "execution_count": 56,
     "metadata": {},
     "output_type": "execute_result"
    }
   ],
   "source": [
    "a"
   ]
  },
  {
   "cell_type": "code",
   "execution_count": 57,
   "id": "18b7ae29-39ef-4dae-b0f6-1ff49a124af8",
   "metadata": {},
   "outputs": [
    {
     "name": "stdout",
     "output_type": "stream",
     "text": [
      "Hello world\n"
     ]
    },
    {
     "data": {
      "text/plain": [
       "int"
      ]
     },
     "execution_count": 57,
     "metadata": {},
     "output_type": "execute_result"
    }
   ],
   "source": [
    "print(\"Hello world\")\n",
    "type(a)\n"
   ]
  },
  {
   "cell_type": "code",
   "execution_count": 59,
   "id": "5189b90c-54ba-410b-bf2a-6865a020b4b8",
   "metadata": {},
   "outputs": [],
   "source": [
    "#KEYWORDS >> Keywords are the predefined words that hold a specific meaning and have specific purpose in python\n"
   ]
  },
  {
   "cell_type": "code",
   "execution_count": 60,
   "id": "c0433884-8b96-4492-9dc7-a3e7752b1429",
   "metadata": {},
   "outputs": [
    {
     "name": "stdout",
     "output_type": "stream",
     "text": [
      "\n",
      "Here is a list of the Python keywords.  Enter any keyword to get more help.\n",
      "\n",
      "False               class               from                or\n",
      "None                continue            global              pass\n",
      "True                def                 if                  raise\n",
      "and                 del                 import              return\n",
      "as                  elif                in                  try\n",
      "assert              else                is                  while\n",
      "async               except              lambda              with\n",
      "await               finally             nonlocal            yield\n",
      "break               for                 not                 \n",
      "\n"
     ]
    }
   ],
   "source": [
    "help('keywords')"
   ]
  },
  {
   "cell_type": "code",
   "execution_count": 61,
   "id": "ad2b5275-bb6b-42d8-bf7b-966dc81015db",
   "metadata": {},
   "outputs": [
    {
     "name": "stdout",
     "output_type": "stream",
     "text": [
      "greater\n"
     ]
    }
   ],
   "source": [
    "#INDENTATION>> make code more readable \n",
    "if 3>2:\n",
    "    print(\"greater\")\n"
   ]
  },
  {
   "cell_type": "code",
   "execution_count": 62,
   "id": "c2f89285-8e84-42a7-9faf-be2715ca6d03",
   "metadata": {},
   "outputs": [],
   "source": [
    "a=3 #statement >> fundamental block of code\n",
    "name = \"ETI\"\n",
    "\n",
    "#statement can be of many types>> Expression, assignment, conditional , loop"
   ]
  },
  {
   "cell_type": "code",
   "execution_count": 63,
   "id": "66c3f0dd-09d7-4c44-8c6b-92d8996bc78c",
   "metadata": {},
   "outputs": [],
   "source": [
    "#assignent statement\n",
    "a=5"
   ]
  },
  {
   "cell_type": "code",
   "execution_count": 64,
   "id": "40192eb4-ef03-486c-82f5-925a554cde6d",
   "metadata": {},
   "outputs": [
    {
     "data": {
      "text/plain": [
       "8"
      ]
     },
     "execution_count": 64,
     "metadata": {},
     "output_type": "execute_result"
    }
   ],
   "source": [
    "a= 3 #assignment statement\n",
    "b=5 #assignment statement\n",
    "\n",
    "a+b #expression statement\n",
    "\n"
   ]
  },
  {
   "cell_type": "code",
   "execution_count": 68,
   "id": "8a8fb13b-9778-4077-8f7b-a2ff31b6f8ca",
   "metadata": {},
   "outputs": [
    {
     "name": "stdin",
     "output_type": "stream",
     "text": [
      "Please input your name: Eti\n"
     ]
    }
   ],
   "source": [
    "#INPUT OUTPUT>> if you want some user to give value of variable\n",
    "name=input(\"Please input your name:\")"
   ]
  },
  {
   "cell_type": "code",
   "execution_count": 70,
   "id": "546c78bb-ac3a-4eb2-b283-70055b6331bd",
   "metadata": {},
   "outputs": [
    {
     "data": {
      "text/plain": [
       "'Eti'"
      ]
     },
     "execution_count": 70,
     "metadata": {},
     "output_type": "execute_result"
    }
   ],
   "source": [
    "name"
   ]
  },
  {
   "cell_type": "code",
   "execution_count": 67,
   "id": "6cdae197-6625-4e87-a1f9-ba3f57b29ec6",
   "metadata": {},
   "outputs": [
    {
     "data": {
      "text/plain": [
       "'Eti'"
      ]
     },
     "execution_count": 67,
     "metadata": {},
     "output_type": "execute_result"
    }
   ],
   "source": [
    "name"
   ]
  },
  {
   "cell_type": "code",
   "execution_count": 71,
   "id": "0cbe854d-b503-41a0-b90f-e55beb35e202",
   "metadata": {},
   "outputs": [
    {
     "name": "stdin",
     "output_type": "stream",
     "text": [
      "Please input your name: 2\n"
     ]
    }
   ],
   "source": [
    "name=input(\"Please input your name:\")\n"
   ]
  },
  {
   "cell_type": "code",
   "execution_count": 72,
   "id": "a578b0f5-d123-4296-bd65-9b601645faf4",
   "metadata": {},
   "outputs": [
    {
     "data": {
      "text/plain": [
       "'2'"
      ]
     },
     "execution_count": 72,
     "metadata": {},
     "output_type": "execute_result"
    }
   ],
   "source": [
    "name"
   ]
  },
  {
   "cell_type": "code",
   "execution_count": 73,
   "id": "b3b8da67-f80b-41b2-b154-e13f1ee72721",
   "metadata": {},
   "outputs": [
    {
     "data": {
      "text/plain": [
       "str"
      ]
     },
     "execution_count": 73,
     "metadata": {},
     "output_type": "execute_result"
    }
   ],
   "source": [
    "type(name)"
   ]
  },
  {
   "cell_type": "code",
   "execution_count": 74,
   "id": "8fc60eea-c2d3-4a70-96b5-53e62512dd1a",
   "metadata": {},
   "outputs": [],
   "source": [
    "#input actually take as every value as string\n",
    "# we cann convert the string into int for that we have to use TYPE CAST"
   ]
  },
  {
   "cell_type": "code",
   "execution_count": 75,
   "id": "f26e30cc-1d1a-470f-8899-dcb16b86fc29",
   "metadata": {},
   "outputs": [
    {
     "data": {
      "text/plain": [
       "2"
      ]
     },
     "execution_count": 75,
     "metadata": {},
     "output_type": "execute_result"
    }
   ],
   "source": [
    "#TYPE CAST>> means to change the format\n",
    "int(name)"
   ]
  },
  {
   "cell_type": "code",
   "execution_count": 76,
   "id": "972d21d5-21f9-4cb6-bfbd-9f128f0a0781",
   "metadata": {},
   "outputs": [],
   "source": [
    "name=int(name)"
   ]
  },
  {
   "cell_type": "code",
   "execution_count": 77,
   "id": "8bddefca-44a9-46ec-b66a-949daf3d013f",
   "metadata": {},
   "outputs": [
    {
     "data": {
      "text/plain": [
       "int"
      ]
     },
     "execution_count": 77,
     "metadata": {},
     "output_type": "execute_result"
    }
   ],
   "source": [
    "type(name)"
   ]
  },
  {
   "cell_type": "code",
   "execution_count": 78,
   "id": "768accdd-550f-4180-81da-59d2747a503d",
   "metadata": {},
   "outputs": [],
   "source": [
    "\n",
    "a=\"3.5\""
   ]
  },
  {
   "cell_type": "code",
   "execution_count": 79,
   "id": "b4b62fff-97e0-418f-bb81-d431d400717b",
   "metadata": {},
   "outputs": [
    {
     "data": {
      "text/plain": [
       "str"
      ]
     },
     "execution_count": 79,
     "metadata": {},
     "output_type": "execute_result"
    }
   ],
   "source": [
    "type(a)"
   ]
  },
  {
   "cell_type": "code",
   "execution_count": 81,
   "id": "03d134f1-9b06-4f0a-a95d-1630a9ff2788",
   "metadata": {},
   "outputs": [
    {
     "data": {
      "text/plain": [
       "3.5"
      ]
     },
     "execution_count": 81,
     "metadata": {},
     "output_type": "execute_result"
    }
   ],
   "source": [
    "float(a)"
   ]
  },
  {
   "cell_type": "code",
   "execution_count": 82,
   "id": "e6a64dcd-a64d-4298-807b-222e856a70cd",
   "metadata": {},
   "outputs": [
    {
     "data": {
      "text/plain": [
       "float"
      ]
     },
     "execution_count": 82,
     "metadata": {},
     "output_type": "execute_result"
    }
   ],
   "source": [
    "type(float(a))\n"
   ]
  },
  {
   "cell_type": "code",
   "execution_count": 83,
   "id": "14add06b-678a-4a29-ae99-377062e06b3c",
   "metadata": {},
   "outputs": [],
   "source": [
    "a=\"1706\""
   ]
  },
  {
   "cell_type": "code",
   "execution_count": 84,
   "id": "d535609d-7647-465a-b376-e9d2bd411201",
   "metadata": {},
   "outputs": [
    {
     "data": {
      "text/plain": [
       "str"
      ]
     },
     "execution_count": 84,
     "metadata": {},
     "output_type": "execute_result"
    }
   ],
   "source": [
    "type(a)"
   ]
  },
  {
   "cell_type": "code",
   "execution_count": 85,
   "id": "9209b430-de48-4d38-bbc6-dde83b7fd6cb",
   "metadata": {},
   "outputs": [
    {
     "data": {
      "text/plain": [
       "1706"
      ]
     },
     "execution_count": 85,
     "metadata": {},
     "output_type": "execute_result"
    }
   ],
   "source": [
    "int(a)"
   ]
  },
  {
   "cell_type": "code",
   "execution_count": 86,
   "id": "7d61d069-439c-4ab9-b7ed-1a0d7458956e",
   "metadata": {},
   "outputs": [
    {
     "data": {
      "text/plain": [
       "int"
      ]
     },
     "execution_count": 86,
     "metadata": {},
     "output_type": "execute_result"
    }
   ],
   "source": [
    "type(int(a))"
   ]
  },
  {
   "cell_type": "code",
   "execution_count": 87,
   "id": "228153ec-dc05-4954-a287-441a1b22f504",
   "metadata": {},
   "outputs": [
    {
     "data": {
      "text/plain": [
       "1706.0"
      ]
     },
     "execution_count": 87,
     "metadata": {},
     "output_type": "execute_result"
    }
   ],
   "source": [
    "\n",
    "float(a)"
   ]
  },
  {
   "cell_type": "code",
   "execution_count": 89,
   "id": "69a82e07-e93f-4cec-bb9b-6509894bd285",
   "metadata": {},
   "outputs": [
    {
     "data": {
      "text/plain": [
       "'1706'"
      ]
     },
     "execution_count": 89,
     "metadata": {},
     "output_type": "execute_result"
    }
   ],
   "source": [
    "\n",
    "str(a)"
   ]
  },
  {
   "cell_type": "code",
   "execution_count": 90,
   "id": "5aac4260-40a7-48ce-a902-6050accc9954",
   "metadata": {},
   "outputs": [
    {
     "data": {
      "text/plain": [
       "str"
      ]
     },
     "execution_count": 90,
     "metadata": {},
     "output_type": "execute_result"
    }
   ],
   "source": [
    "type(a)"
   ]
  },
  {
   "cell_type": "code",
   "execution_count": 91,
   "id": "a342ac19-d483-4f64-8bac-a5e3449a96cb",
   "metadata": {},
   "outputs": [
    {
     "data": {
      "text/plain": [
       "int"
      ]
     },
     "execution_count": 91,
     "metadata": {},
     "output_type": "execute_result"
    }
   ],
   "source": [
    "a=121\n",
    "type(a)"
   ]
  },
  {
   "cell_type": "code",
   "execution_count": 92,
   "id": "89e90895-f90d-4aa8-bd91-8dc5595034fa",
   "metadata": {},
   "outputs": [
    {
     "data": {
      "text/plain": [
       "'121'"
      ]
     },
     "execution_count": 92,
     "metadata": {},
     "output_type": "execute_result"
    }
   ],
   "source": [
    "str(a)"
   ]
  },
  {
   "cell_type": "code",
   "execution_count": 94,
   "id": "f6020304-a942-4a7f-b2e1-65d6ddf8687e",
   "metadata": {},
   "outputs": [
    {
     "data": {
      "text/plain": [
       "str"
      ]
     },
     "execution_count": 94,
     "metadata": {},
     "output_type": "execute_result"
    }
   ],
   "source": [
    "\n",
    "type(str(a))"
   ]
  },
  {
   "cell_type": "code",
   "execution_count": 95,
   "id": "0ee6a69a-956e-417f-acba-5ef9d7a40a1d",
   "metadata": {},
   "outputs": [
    {
     "data": {
      "text/plain": [
       "False"
      ]
     },
     "execution_count": 95,
     "metadata": {},
     "output_type": "execute_result"
    }
   ],
   "source": [
    "bool(0)"
   ]
  },
  {
   "cell_type": "code",
   "execution_count": 96,
   "id": "dc58bcbe-c93d-40d8-8493-5749ff53235a",
   "metadata": {},
   "outputs": [
    {
     "data": {
      "text/plain": [
       "True"
      ]
     },
     "execution_count": 96,
     "metadata": {},
     "output_type": "execute_result"
    }
   ],
   "source": [
    "bool(1)"
   ]
  },
  {
   "cell_type": "code",
   "execution_count": 97,
   "id": "c94189ec-3fcc-413b-8782-1feb230d5213",
   "metadata": {},
   "outputs": [
    {
     "ename": "ValueError",
     "evalue": "invalid literal for int() with base 10: 'Eti'",
     "output_type": "error",
     "traceback": [
      "\u001b[1;31m---------------------------------------------------------------------------\u001b[0m",
      "\u001b[1;31mValueError\u001b[0m                                Traceback (most recent call last)",
      "Cell \u001b[1;32mIn[97], line 2\u001b[0m\n\u001b[0;32m      1\u001b[0m a\u001b[38;5;241m=\u001b[39m \u001b[38;5;124m\"\u001b[39m\u001b[38;5;124mEti\u001b[39m\u001b[38;5;124m\"\u001b[39m\n\u001b[1;32m----> 2\u001b[0m \u001b[38;5;28;43mint\u001b[39;49m\u001b[43m(\u001b[49m\u001b[43ma\u001b[49m\u001b[43m)\u001b[49m\n",
      "\u001b[1;31mValueError\u001b[0m: invalid literal for int() with base 10: 'Eti'"
     ]
    }
   ],
   "source": [
    "a= \"Eti\"\n",
    "int(a)"
   ]
  },
  {
   "cell_type": "code",
   "execution_count": 99,
   "id": "7e5efb87-b678-473c-ae92-80849e1a8358",
   "metadata": {},
   "outputs": [],
   "source": [
    "\n",
    "#Python is a case sensative programming language\n",
    "a=17\n",
    "A=6"
   ]
  },
  {
   "cell_type": "code",
   "execution_count": 100,
   "id": "c2207a7b-f5cd-4d37-a724-6ee10fbd41ad",
   "metadata": {},
   "outputs": [
    {
     "data": {
      "text/plain": [
       "17"
      ]
     },
     "execution_count": 100,
     "metadata": {},
     "output_type": "execute_result"
    }
   ],
   "source": [
    "a"
   ]
  },
  {
   "cell_type": "code",
   "execution_count": 101,
   "id": "d3f2d0fa-a8b5-4d8a-b0dc-dbba2240fd09",
   "metadata": {},
   "outputs": [
    {
     "data": {
      "text/plain": [
       "6"
      ]
     },
     "execution_count": 101,
     "metadata": {},
     "output_type": "execute_result"
    }
   ],
   "source": [
    "A"
   ]
  },
  {
   "cell_type": "code",
   "execution_count": 102,
   "id": "672bbece-22e4-415b-9925-e2a02385a029",
   "metadata": {},
   "outputs": [
    {
     "name": "stdout",
     "output_type": "stream",
     "text": [
      "hello world\n"
     ]
    }
   ],
   "source": [
    "#Variables can not be keyword\n",
    "print(\"hello world\")"
   ]
  },
  {
   "cell_type": "code",
   "execution_count": 103,
   "id": "18f3d3e7-89bd-468f-81de-a281618c64a5",
   "metadata": {},
   "outputs": [],
   "source": [
    "print=\"Eti\""
   ]
  },
  {
   "cell_type": "code",
   "execution_count": 104,
   "id": "dec3d27b-d089-4ca0-afbc-bae5a6513ea7",
   "metadata": {},
   "outputs": [
    {
     "ename": "TypeError",
     "evalue": "'str' object is not callable",
     "output_type": "error",
     "traceback": [
      "\u001b[1;31m---------------------------------------------------------------------------\u001b[0m",
      "\u001b[1;31mTypeError\u001b[0m                                 Traceback (most recent call last)",
      "Cell \u001b[1;32mIn[104], line 1\u001b[0m\n\u001b[1;32m----> 1\u001b[0m \u001b[38;5;28;43mprint\u001b[39;49m\u001b[43m(\u001b[49m\u001b[38;5;124;43m\"\u001b[39;49m\u001b[38;5;124;43mworld\u001b[39;49m\u001b[38;5;124;43m\"\u001b[39;49m\u001b[43m)\u001b[49m\n",
      "\u001b[1;31mTypeError\u001b[0m: 'str' object is not callable"
     ]
    }
   ],
   "source": [
    "print(\"world\")"
   ]
  },
  {
   "cell_type": "code",
   "execution_count": null,
   "id": "4620bb68-b863-40bd-8f97-c9ac477bcdb4",
   "metadata": {},
   "outputs": [],
   "source": []
  }
 ],
 "metadata": {
  "kernelspec": {
   "display_name": "Python 3 (ipykernel)",
   "language": "python",
   "name": "python3"
  },
  "language_info": {
   "codemirror_mode": {
    "name": "ipython",
    "version": 3
   },
   "file_extension": ".py",
   "mimetype": "text/x-python",
   "name": "python",
   "nbconvert_exporter": "python",
   "pygments_lexer": "ipython3",
   "version": "3.12.5"
  }
 },
 "nbformat": 4,
 "nbformat_minor": 5
}
