{
 "cells": [
  {
   "cell_type": "code",
   "execution_count": 1,
   "id": "332874ad-041d-4093-865b-53a08cce9b49",
   "metadata": {},
   "outputs": [],
   "source": [
    "#CONDITIONAL>> I will go out to play if the weather is sunny\n",
    "#LOOP>> I will keep checking all the dishes are over in the buffet\n",
    "#CONTROL>>I will check out all the dishes untill I get pasta"
   ]
  },
  {
   "cell_type": "code",
   "execution_count": 4,
   "id": "341751ba-e34b-4f2f-9fe9-f6226f65b095",
   "metadata": {},
   "outputs": [],
   "source": [
    "#CONDITIONAL STATEMENT >> helps you to code decision based on some preconditions\n",
    "#IF\n",
    "#ELSE\n",
    "#IF-ELIF-ELSE\n",
    "#NESTED IF ELSE"
   ]
  },
  {
   "cell_type": "code",
   "execution_count": 5,
   "id": "760a489c-9205-4b28-ba8b-87f0fd6f005f",
   "metadata": {},
   "outputs": [],
   "source": [
    "#IF STATEMENT\n",
    "#SYNTAX\n",
    "#IF CONDITION TRUE:\n",
    "#   BLOCK OF CODE WILL BE EXECUTED"
   ]
  },
  {
   "cell_type": "code",
   "execution_count": 6,
   "id": "12e1b506-0398-4540-ac8c-3c552640c0c7",
   "metadata": {},
   "outputs": [
    {
     "name": "stdout",
     "output_type": "stream",
     "text": [
      "The number is greater than 0.\n"
     ]
    }
   ],
   "source": [
    "a=100\n",
    "if a>2: #execute the if block, if the condition is true\n",
    "    print(\"The number is greater than 0.\")\n"
   ]
  },
  {
   "cell_type": "code",
   "execution_count": 7,
   "id": "47c81da0-f391-4ade-ade0-1be09ee6fd84",
   "metadata": {},
   "outputs": [],
   "source": [
    "a=100\n",
    "if a<2: #execute the if block, if the condition is true\n",
    "    print(\"The number is greater than 0.\")"
   ]
  },
  {
   "cell_type": "code",
   "execution_count": 8,
   "id": "7205573c-70e0-486b-b20b-0fd00b4a2a5a",
   "metadata": {},
   "outputs": [
    {
     "name": "stdout",
     "output_type": "stream",
     "text": [
      "I will not play circket\n"
     ]
    }
   ],
   "source": [
    "weather = \"rainy\"\n",
    "if weather == \"rainy\":\n",
    "    print(\"I will not play circket\")"
   ]
  },
  {
   "cell_type": "code",
   "execution_count": 9,
   "id": "a3902970-029d-4ef1-9a3a-8274c100d143",
   "metadata": {},
   "outputs": [],
   "source": [
    "weather = \"sunny\"\n",
    "if weather == \"rainy\":\n",
    "    print(\"I will not play circket\")"
   ]
  },
  {
   "cell_type": "code",
   "execution_count": 10,
   "id": "185e8a42-1f3a-4e02-9405-94026a8b2524",
   "metadata": {},
   "outputs": [
    {
     "ename": "IndentationError",
     "evalue": "expected an indented block after 'if' statement on line 2 (1857333977.py, line 3)",
     "output_type": "error",
     "traceback": [
      "\u001b[1;36m  Cell \u001b[1;32mIn[10], line 3\u001b[1;36m\u001b[0m\n\u001b[1;33m    print(\"I will not play circket\") #Indentation is necessary in python\u001b[0m\n\u001b[1;37m    ^\u001b[0m\n\u001b[1;31mIndentationError\u001b[0m\u001b[1;31m:\u001b[0m expected an indented block after 'if' statement on line 2\n"
     ]
    }
   ],
   "source": [
    "weather = \"rainy\"\n",
    "if weather == \"rainy\":\n",
    "print(\"I will not play circket\") #Indentation is necessary in python"
   ]
  },
  {
   "cell_type": "code",
   "execution_count": 11,
   "id": "606cf6bd-f152-42df-903a-c3b542ee0a08",
   "metadata": {},
   "outputs": [
    {
     "name": "stdout",
     "output_type": "stream",
     "text": [
      "Room temperature\n"
     ]
    }
   ],
   "source": [
    "temp = 30\n",
    "if temp>25:\n",
    "    print(\"Room temperature\")"
   ]
  },
  {
   "cell_type": "code",
   "execution_count": 14,
   "id": "7819abc3-d286-427c-9d82-313e93f8150e",
   "metadata": {},
   "outputs": [
    {
     "name": "stdout",
     "output_type": "stream",
     "text": [
      "I am studying\n"
     ]
    }
   ],
   "source": [
    "ds_course = True\n",
    "if ds_course:\n",
    "    print(\"I am studying\")"
   ]
  },
  {
   "cell_type": "code",
   "execution_count": 15,
   "id": "16fa085a-3e3f-43e3-ba76-e2d380317eb8",
   "metadata": {},
   "outputs": [
    {
     "name": "stdout",
     "output_type": "stream",
     "text": [
      "You are pass\n"
     ]
    }
   ],
   "source": [
    "grade = 8\n",
    "if grade>=8:\n",
    "    print(\"You are pass\")"
   ]
  },
  {
   "cell_type": "code",
   "execution_count": 16,
   "id": "bf6687b1-3e85-4765-bc90-169facdd4c8d",
   "metadata": {},
   "outputs": [
    {
     "name": "stdout",
     "output_type": "stream",
     "text": [
      "number is even\n"
     ]
    }
   ],
   "source": [
    "num =2\n",
    "if num % 2 == 0:\n",
    "    print(\"number is even\")"
   ]
  },
  {
   "cell_type": "code",
   "execution_count": 18,
   "id": "71094307-e59b-4797-8c30-3e5258227951",
   "metadata": {},
   "outputs": [
    {
     "name": "stdout",
     "output_type": "stream",
     "text": [
      "this is the number of interest\n"
     ]
    }
   ],
   "source": [
    "#in real life the decisions are made based on multiple conditions\n",
    "number =42\n",
    "if((number % 2 == 0) & (number > 0)):\n",
    "    print(\"this is the number of interest\")"
   ]
  },
  {
   "cell_type": "code",
   "execution_count": 20,
   "id": "8f93b414-449f-4ecb-9684-0eba02434b26",
   "metadata": {},
   "outputs": [
    {
     "name": "stdout",
     "output_type": "stream",
     "text": [
      "YOU ARE ALL ROUNDER\n"
     ]
    }
   ],
   "source": [
    "grade = 8\n",
    "co_cir = True\n",
    "if ((grade >= 8) & ( co_cir == True)):\n",
    "    print(\"YOU ARE ALL ROUNDER\")"
   ]
  },
  {
   "cell_type": "code",
   "execution_count": 24,
   "id": "9b0cd05f-027f-43bd-8483-d9a2074e9818",
   "metadata": {},
   "outputs": [
    {
     "name": "stdout",
     "output_type": "stream",
     "text": [
      "I will watch TV\n"
     ]
    }
   ],
   "source": [
    "#IF ELSE STATEMENT>> Execute the If block if the condition is true esle print the else block\n",
    "weather = \"Sunny\"\n",
    "if weather == \"rainy\": #if condition is true execute IF block\n",
    "    print(\"I will not play cricket\")\n",
    "else: # else execute this else block\n",
    "    print(\"I will watch TV\")"
   ]
  },
  {
   "cell_type": "code",
   "execution_count": 25,
   "id": "e82c6a4c-ad53-4141-9827-bbfe1c34f168",
   "metadata": {},
   "outputs": [
    {
     "name": "stdout",
     "output_type": "stream",
     "text": [
      "You will be servered alcohol\n"
     ]
    }
   ],
   "source": [
    "age = 21\n",
    "if age>= 18:\n",
    "    print(\"You will be servered alcohol\")\n",
    "else:\n",
    "    print(\"get out of the bar\")"
   ]
  },
  {
   "cell_type": "code",
   "execution_count": 26,
   "id": "9862f8e9-5a3a-45ae-a7b0-75b0ec6fb1fe",
   "metadata": {},
   "outputs": [
    {
     "name": "stdout",
     "output_type": "stream",
     "text": [
      "get out of the bar\n"
     ]
    }
   ],
   "source": [
    "age = 17\n",
    "if age>= 18:\n",
    "    print(\"You will be servered alcohol\")\n",
    "else:\n",
    "    print(\"get out of the bar\")"
   ]
  },
  {
   "cell_type": "code",
   "execution_count": 28,
   "id": "730b3578-a2c1-43a7-b3eb-92cb3e827e5d",
   "metadata": {},
   "outputs": [
    {
     "name": "stdout",
     "output_type": "stream",
     "text": [
      "Please have a driving license and drive\n"
     ]
    }
   ],
   "source": [
    "age = 21\n",
    "if age>= 18:\n",
    "    print(\"Please have a driving license and drive\")\n",
    "else:\n",
    "\n",
    "    print(\"don't drive\")"
   ]
  },
  {
   "cell_type": "code",
   "execution_count": 29,
   "id": "7c178c9e-513f-4584-93b8-36f5d44060f0",
   "metadata": {},
   "outputs": [
    {
     "name": "stdout",
     "output_type": "stream",
     "text": [
      "don't drive\n"
     ]
    }
   ],
   "source": [
    "age = 15\n",
    "if age>= 18:\n",
    "    print(\"Please have a driving license and drive\")\n",
    "else:\n",
    "\n",
    "    print(\"don't drive\")"
   ]
  },
  {
   "cell_type": "code",
   "execution_count": 31,
   "id": "4b4cc4c4-7337-4bdb-aa05-77916173ebbc",
   "metadata": {},
   "outputs": [
    {
     "name": "stdout",
     "output_type": "stream",
     "text": [
      "I am studying\n"
     ]
    }
   ],
   "source": [
    "is_dscourse =True\n",
    "if is_dscourse:\n",
    "    print(\"I am studying\")\n",
    "else:\n",
    "    print(\"I am practicing\")"
   ]
  },
  {
   "cell_type": "code",
   "execution_count": 32,
   "id": "4a4160b1-504a-4e88-b3d8-2c33c510cd02",
   "metadata": {},
   "outputs": [
    {
     "name": "stdout",
     "output_type": "stream",
     "text": [
      "I am practicing\n"
     ]
    }
   ],
   "source": [
    "is_dscourse =False\n",
    "if is_dscourse:\n",
    "    print(\"I am studying\")\n",
    "else:\n",
    "    print(\"I am practicing\")"
   ]
  },
  {
   "cell_type": "code",
   "execution_count": 33,
   "id": "f68b485f-1ade-4eed-bd03-dd823e20aebc",
   "metadata": {},
   "outputs": [
    {
     "name": "stdout",
     "output_type": "stream",
     "text": [
      "The number is less than 5\n"
     ]
    }
   ],
   "source": [
    "x=1\n",
    "if x>5:\n",
    "    print(\"The number is greater than 5\")\n",
    "else:\n",
    "    print(\"The number is less than 5\")"
   ]
  },
  {
   "cell_type": "code",
   "execution_count": 34,
   "id": "35d850d5-aab3-4e81-a79e-4f3fcffefcef",
   "metadata": {},
   "outputs": [
    {
     "name": "stdout",
     "output_type": "stream",
     "text": [
      "The number is greater than 5\n"
     ]
    }
   ],
   "source": [
    "x=16\n",
    "if x>5:\n",
    "    print(\"The number is greater than 5\")\n",
    "else:\n",
    "    print(\"The number is less than 5\")"
   ]
  },
  {
   "cell_type": "code",
   "execution_count": 35,
   "id": "a8a21a23-1044-41a0-b27c-1e0500a02fe8",
   "metadata": {},
   "outputs": [
    {
     "name": "stdout",
     "output_type": "stream",
     "text": [
      "The number is an odd number\n"
     ]
    }
   ],
   "source": [
    "x= 43\n",
    "if x % 2 == 0:\n",
    "    print(\"The number is an even number\")\n",
    "else:\n",
    "    print(\"The number is an odd number\")\n"
   ]
  },
  {
   "cell_type": "code",
   "execution_count": 37,
   "id": "d50ec2bb-e77d-4957-9b45-73bfa6e4bc53",
   "metadata": {},
   "outputs": [
    {
     "name": "stdout",
     "output_type": "stream",
     "text": [
      "You are fail\n"
     ]
    }
   ],
   "source": [
    "score = 30\n",
    "if score >= 33:\n",
    "    print(\"You are pass\")\n",
    "else:\n",
    "    print(\"You are fail\")"
   ]
  },
  {
   "cell_type": "code",
   "execution_count": 39,
   "id": "846f2f64-5818-4f14-a8d1-232c3b395369",
   "metadata": {},
   "outputs": [],
   "source": [
    "#if else have two conditions\n",
    "# in real life we many time we have more than two conditions\n",
    "#SYNTAX\n",
    "#if some condition\n",
    "#elif some condition\n",
    "#else"
   ]
  },
  {
   "cell_type": "code",
   "execution_count": 41,
   "id": "d8f09408-3f08-4ae0-8462-743fd13679f4",
   "metadata": {},
   "outputs": [
    {
     "name": "stdout",
     "output_type": "stream",
     "text": [
      "Number is equal to 100\n"
     ]
    }
   ],
   "source": [
    "a=100\n",
    "if a>100:\n",
    "    print(\"This will run when the number is greater than 100\")\n",
    "elif a< 100:\n",
    "    print(\"This will be executed when the number is less than 100\")\n",
    "else:\n",
    "    print(\"Number is equal to 100\")"
   ]
  },
  {
   "cell_type": "code",
   "execution_count": 43,
   "id": "60dd60a2-3e0e-471d-b215-e3a03945719d",
   "metadata": {},
   "outputs": [
    {
     "name": "stdout",
     "output_type": "stream",
     "text": [
      "This will be executed when the number is less than 100\n"
     ]
    }
   ],
   "source": [
    "a=10\n",
    "if a>100:\n",
    "    print(\"This will run when the number is greater than 100\")\n",
    "elif a< 100:\n",
    "    print(\"This will be executed when the number is less than 100\")\n",
    "elif a>2000:\n",
    "    print(\"The number is huge\")\n",
    "else:\n",
    "    print(\"Number is equal to 100\")"
   ]
  },
  {
   "cell_type": "code",
   "execution_count": 46,
   "id": "fabdf183-f1a9-4403-b751-4a74aea3b623",
   "metadata": {},
   "outputs": [
    {
     "name": "stdout",
     "output_type": "stream",
     "text": [
      "The number is huge\n"
     ]
    }
   ],
   "source": [
    "a=10000\n",
    "if a <100:\n",
    "    print(\"This will run when the number is greater than 100\")\n",
    "elif a > 2000:\n",
    "    print(\"The number is huge\")\n",
    "elif a<10000:\n",
    "    print(\"This will be executed when the number is less than 100\")\n",
    "else:\n",
    "    print(\"Number is equal to 100\")"
   ]
  },
  {
   "cell_type": "code",
   "execution_count": 56,
   "id": "40323147-5303-42c1-bdc8-74541a9f7836",
   "metadata": {},
   "outputs": [
    {
     "name": "stdout",
     "output_type": "stream",
     "text": [
      "Grade C\n"
     ]
    }
   ],
   "source": [
    "score = 75\n",
    "if score >= 90:\n",
    "    print(\"Grade A\")\n",
    "elif (80<=score<90):\n",
    "    print(\"Grade B\")\n",
    "elif (70 <= score < 80):\n",
    "    print(\"Grade C\")\n",
    "else:\n",
    "    print(\"Grade D\")\n",
    "    "
   ]
  },
  {
   "cell_type": "code",
   "execution_count": 57,
   "id": "01db27c8-b045-4f91-bf00-b9f03141dace",
   "metadata": {},
   "outputs": [
    {
     "name": "stdout",
     "output_type": "stream",
     "text": [
      "Grade A\n"
     ]
    }
   ],
   "source": [
    "score = 90\n",
    "if score >= 90:\n",
    "    print(\"Grade A\")\n",
    "elif (80<=score<90):\n",
    "    print(\"Grade B\")\n",
    "elif (70 <= score < 80):\n",
    "    print(\"Grade C\")\n",
    "else:\n",
    "    print(\"Grade D\")\n",
    "    "
   ]
  },
  {
   "cell_type": "code",
   "execution_count": 58,
   "id": "ba12f77b-e2dc-4995-8474-2ce4a837372a",
   "metadata": {},
   "outputs": [
    {
     "name": "stdout",
     "output_type": "stream",
     "text": [
      "You are a senior citizen\n"
     ]
    }
   ],
   "source": [
    "age = 80\n",
    "if age < 18:\n",
    "    print(\"Minor\")\n",
    "elif ( 18 < age < 65):\n",
    "    print(\"YOu are an adult\")\n",
    "else:\n",
    "    print(\"You are a senior citizen\")"
   ]
  },
  {
   "cell_type": "code",
   "execution_count": 59,
   "id": "6a8a9642-0125-4a9c-aca7-304cf801a729",
   "metadata": {},
   "outputs": [
    {
     "name": "stdout",
     "output_type": "stream",
     "text": [
      " X is not greater than 5\n"
     ]
    }
   ],
   "source": [
    "#NESTED IF ELSE\n",
    "\n",
    "x= 1\n",
    "y= 6\n",
    "if x > 5:\n",
    "    if y > 5:\n",
    "        print(\" X and Y is greater than 5\")\n",
    "    else:\n",
    "        print(\" X is greater than 5 but Y is less than 5\")\n",
    "else:\n",
    "    print(\" X is not greater than 5\")"
   ]
  },
  {
   "cell_type": "code",
   "execution_count": 61,
   "id": "48157527-ece1-4e03-b6c9-4f48ceca48e0",
   "metadata": {},
   "outputs": [
    {
     "name": "stdout",
     "output_type": "stream",
     "text": [
      "You are VIP and very important for us. You are eligible for senior citizen memebership\n"
     ]
    }
   ],
   "source": [
    "is_vip = True\n",
    "age = 80\n",
    "if is_vip:\n",
    "    if age >=18:\n",
    "        if age < 65:\n",
    "            print(\"Welcome to the Vip section\")\n",
    "        else:\n",
    "            print(\"You are VIP and very important for us. You are eligible for senior citizen memebership\")\n",
    "    else:\n",
    "            print(\"VIP status is only for adults\")\n",
    "else:\n",
    "    print(\"You are not a VIP customer\")"
   ]
  },
  {
   "cell_type": "code",
   "execution_count": 62,
   "id": "9d91d33f-1bfd-424e-8806-abfd71a0b430",
   "metadata": {},
   "outputs": [
    {
     "name": "stdout",
     "output_type": "stream",
     "text": [
      "VIP status is only for adults\n"
     ]
    }
   ],
   "source": [
    "is_vip = True\n",
    "age = 15\n",
    "if is_vip:\n",
    "    if age >=18:\n",
    "        if age < 65:\n",
    "            print(\"Welcome to the Vip section\")\n",
    "        else:\n",
    "            print(\"You are VIP and very important for us. You are eligible for senior citizen memebership\")\n",
    "    else:\n",
    "            print(\"VIP status is only for adults\")\n",
    "else:\n",
    "    print(\"You are not a VIP customer\")"
   ]
  },
  {
   "cell_type": "code",
   "execution_count": 63,
   "id": "b61cd8f0-f5eb-4193-8ebf-91ee62e54aa7",
   "metadata": {},
   "outputs": [
    {
     "name": "stdout",
     "output_type": "stream",
     "text": [
      "You are not a VIP customer\n"
     ]
    }
   ],
   "source": [
    "is_vip = False\n",
    "age = 80\n",
    "if is_vip:\n",
    "    if age >=18:\n",
    "        if age < 65:\n",
    "            print(\"Welcome to the Vip section\")\n",
    "        else:\n",
    "            print(\"You are VIP and very important for us. You are eligible for senior citizen memebership\")\n",
    "    else:\n",
    "            print(\"VIP status is only for adults\")\n",
    "else:\n",
    "    print(\"You are not a VIP customer\")"
   ]
  },
  {
   "cell_type": "code",
   "execution_count": 65,
   "id": "c0e6ad87-950f-4463-81bf-8b8ae5964313",
   "metadata": {},
   "outputs": [
    {
     "name": "stdin",
     "output_type": "stream",
     "text": [
      "Enter a number  1706\n"
     ]
    },
    {
     "name": "stdout",
     "output_type": "stream",
     "text": [
      "the numbere is  1706\n"
     ]
    }
   ],
   "source": [
    "a= input(\"Enter a number \")\n",
    "print (\"the numbere is \",a)"
   ]
  },
  {
   "cell_type": "code",
   "execution_count": 66,
   "id": "1b673fb6-d553-4fd3-83f3-8dede79f4c69",
   "metadata": {},
   "outputs": [
    {
     "name": "stdin",
     "output_type": "stream",
     "text": [
      "Enter a number  2345\n"
     ]
    },
    {
     "name": "stdout",
     "output_type": "stream",
     "text": [
      "the numbere is  2345 <class 'str'>\n"
     ]
    }
   ],
   "source": [
    "a= input(\"Enter a number \")#by default input treats everything as string\n",
    "print (\"the numbere is \",a, type(a))"
   ]
  },
  {
   "cell_type": "code",
   "execution_count": null,
   "id": "59494ac7-09ac-4baf-9a3b-f81f7e3f4a49",
   "metadata": {},
   "outputs": [],
   "source": []
  },
  {
   "cell_type": "raw",
   "id": "095f342d-8401-43b2-afec-a74cb1e9ce51",
   "metadata": {},
   "source": [
    "a =int(input(\"Enter a number \"))\n",
    "a"
   ]
  },
  {
   "cell_type": "code",
   "execution_count": null,
   "id": "605a8a7e-4b5d-41a7-bc16-6ff5b5bc831b",
   "metadata": {},
   "outputs": [],
   "source": []
  }
 ],
 "metadata": {
  "kernelspec": {
   "display_name": "Python 3 (ipykernel)",
   "language": "python",
   "name": "python3"
  },
  "language_info": {
   "codemirror_mode": {
    "name": "ipython",
    "version": 3
   },
   "file_extension": ".py",
   "mimetype": "text/x-python",
   "name": "python",
   "nbconvert_exporter": "python",
   "pygments_lexer": "ipython3",
   "version": "3.12.5"
  }
 },
 "nbformat": 4,
 "nbformat_minor": 5
}
