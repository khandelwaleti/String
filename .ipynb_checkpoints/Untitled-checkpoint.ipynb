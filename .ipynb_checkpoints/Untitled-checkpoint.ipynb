{
 "cells": [
  {
   "cell_type": "code",
   "execution_count": 1,
   "id": "d845de0d-4d0e-4519-92cc-a0b4fdc9a59a",
   "metadata": {},
   "outputs": [],
   "source": [
    "#1. Write code to reverse a String"
   ]
  },
  {
   "cell_type": "code",
   "execution_count": 2,
   "id": "040c68d8-e4ce-44d0-b0d0-029caaf28301",
   "metadata": {},
   "outputs": [
    {
     "name": "stdout",
     "output_type": "stream",
     "text": [
      "Reversed String: !dlroW ,olleH\n"
     ]
    }
   ],
   "source": [
    "def reverse_string(s):\n",
    "    return s[::-1]\n",
    "\n",
    "# Example usage\n",
    "string = \"Hello, World!\"\n",
    "reversed_string = reverse_string(string)\n",
    "print(\"Reversed String:\", reversed_string)"
   ]
  },
  {
   "cell_type": "code",
   "execution_count": 3,
   "id": "539fd3f1-6b2a-4238-a491-2638ca9bc50b",
   "metadata": {},
   "outputs": [],
   "source": [
    "#2. Write code to count the nu\f",
    "mber of vowels in string."
   ]
  },
  {
   "cell_type": "code",
   "execution_count": 4,
   "id": "072d328b-daff-455d-9415-ba87710853bb",
   "metadata": {},
   "outputs": [
    {
     "name": "stdout",
     "output_type": "stream",
     "text": [
      "Number of vowels: 3\n"
     ]
    }
   ],
   "source": [
    "def count_vowels(s):\n",
    "    vowels = \"aeiouAEIOU\"\n",
    "    count = 0\n",
    "    for char in s:\n",
    "        if char in vowels:\n",
    "            count += 1\n",
    "    return count\n",
    "\n",
    "# Example usage\n",
    "string = \"Hello, World!\"\n",
    "vowel_count = count_vowels(string)\n",
    "print(\"Number of vowels:\", vowel_count)\n"
   ]
  },
  {
   "cell_type": "code",
   "execution_count": 5,
   "id": "95ad254c-b3fc-4c33-8c7f-40c29bedae18",
   "metadata": {},
   "outputs": [],
   "source": [
    "#3.Write code to check if  given string is  palindromeme or not."
   ]
  },
  {
   "cell_type": "code",
   "execution_count": 6,
   "id": "6fe3f779-473a-4f91-9314-13d881c663c0",
   "metadata": {},
   "outputs": [
    {
     "name": "stdout",
     "output_type": "stream",
     "text": [
      "'A man a plan a canal Panama' is a palindrome\n"
     ]
    }
   ],
   "source": [
    "def is_palindrome(s):\n",
    "    # Remove spaces and convert to lowercase for case-insensitive comparison\n",
    "    s = s.replace(\" \", \"\").lower()\n",
    "    \n",
    "    # Check if the string is equal to its reverse\n",
    "    return s == s[::-1]\n",
    "\n",
    "# Example usage\n",
    "string = \"A man a plan a canal Panama\"\n",
    "if is_palindrome(string):\n",
    "    print(f\"'{string}' is a palindrome\")\n",
    "else:\n",
    "    print(f\"'{string}' is not a palindrome\")\n"
   ]
  },
  {
   "cell_type": "code",
   "execution_count": null,
   "id": "6598f7d2-cec9-4848-be97-efa0766cf33d",
   "metadata": {},
   "outputs": [],
   "source": []
  }
 ],
 "metadata": {
  "kernelspec": {
   "display_name": "Python 3 (ipykernel)",
   "language": "python",
   "name": "python3"
  },
  "language_info": {
   "codemirror_mode": {
    "name": "ipython",
    "version": 3
   },
   "file_extension": ".py",
   "mimetype": "text/x-python",
   "name": "python",
   "nbconvert_exporter": "python",
   "pygments_lexer": "ipython3",
   "version": "3.12.5"
  }
 },
 "nbformat": 4,
 "nbformat_minor": 5
}
