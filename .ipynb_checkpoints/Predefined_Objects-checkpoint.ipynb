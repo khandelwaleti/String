{
 "cells": [
  {
   "cell_type": "code",
   "execution_count": 1,
   "id": "6a68dd6a-d4c4-4b67-a65b-c325ba182b2f",
   "metadata": {},
   "outputs": [
    {
     "name": "stdout",
     "output_type": "stream",
     "text": [
      "hello world\n"
     ]
    }
   ],
   "source": [
    "print('hello world')\n"
   ]
  },
  {
   "cell_type": "code",
   "execution_count": 2,
   "id": "db67f404-5d40-4703-a9a6-619e22aa3db3",
   "metadata": {},
   "outputs": [],
   "source": [
    "a=3"
   ]
  },
  {
   "cell_type": "code",
   "execution_count": 3,
   "id": "d85fa01b-f76d-404c-b133-d6a4a10e95aa",
   "metadata": {},
   "outputs": [
    {
     "data": {
      "text/plain": [
       "3"
      ]
     },
     "execution_count": 3,
     "metadata": {},
     "output_type": "execute_result"
    }
   ],
   "source": [
    "a"
   ]
  },
  {
   "cell_type": "raw",
   "id": "b97e9f3f-c83b-4149-ab52-46b65c115433",
   "metadata": {},
   "source": [
    "##Variables/ identifiers are the place holders where we keep the variety of data which we can use to write logic\n",
    "##Number>>integer/float\n",
    "##Character>>String\n",
    "##True/False>> Boolean Value\n",
    "## Nothing>>None\n"
   ]
  },
  {
   "cell_type": "code",
   "execution_count": 4,
   "id": "23f4658a-52eb-412d-aad2-f09ed9a29e69",
   "metadata": {},
   "outputs": [],
   "source": [
    "b=3"
   ]
  },
  {
   "cell_type": "code",
   "execution_count": 5,
   "id": "ae41ff93-4767-483d-8a4a-73f762b28215",
   "metadata": {},
   "outputs": [
    {
     "data": {
      "text/plain": [
       "3"
      ]
     },
     "execution_count": 5,
     "metadata": {},
     "output_type": "execute_result"
    }
   ],
   "source": [
    "b"
   ]
  },
  {
   "cell_type": "raw",
   "id": "8403ea19-bfd6-453c-a4b7-1c0b81d581cc",
   "metadata": {},
   "source": [
    "Variable is reserved memory space forn storing value.\n"
   ]
  },
  {
   "cell_type": "code",
   "execution_count": 2,
   "id": "5e493d32-eff7-4c2c-a190-d7a690a5614e",
   "metadata": {},
   "outputs": [],
   "source": [
    "b=4.5"
   ]
  },
  {
   "cell_type": "code",
   "execution_count": 3,
   "id": "abd5a29a-3e42-457a-aa2c-6c6144e42bed",
   "metadata": {},
   "outputs": [
    {
     "data": {
      "text/plain": [
       "4.5"
      ]
     },
     "execution_count": 3,
     "metadata": {},
     "output_type": "execute_result"
    }
   ],
   "source": [
    "b"
   ]
  },
  {
   "cell_type": "raw",
   "id": "4deba9a9-4ff4-4851-99ac-a7f62cf3a6dc",
   "metadata": {},
   "source": [
    "A memory space will be created with the value of the variable."
   ]
  },
  {
   "cell_type": "code",
   "execution_count": 4,
   "id": "c368333f-a3c7-49d3-ae2d-b33180fd190a",
   "metadata": {},
   "outputs": [
    {
     "data": {
      "text/plain": [
       "float"
      ]
     },
     "execution_count": 4,
     "metadata": {},
     "output_type": "execute_result"
    }
   ],
   "source": [
    "type(b)"
   ]
  },
  {
   "cell_type": "code",
   "execution_count": null,
   "id": "0528f6df-9969-4a39-8fe1-e69ce51a679e",
   "metadata": {},
   "outputs": [],
   "source": []
  }
 ],
 "metadata": {
  "kernelspec": {
   "display_name": "Python 3 (ipykernel)",
   "language": "python",
   "name": "python3"
  },
  "language_info": {
   "codemirror_mode": {
    "name": "ipython",
    "version": 3
   },
   "file_extension": ".py",
   "mimetype": "text/x-python",
   "name": "python",
   "nbconvert_exporter": "python",
   "pygments_lexer": "ipython3",
   "version": "3.12.5"
  }
 },
 "nbformat": 4,
 "nbformat_minor": 5
}
