{
 "cells": [
  {
   "cell_type": "code",
   "execution_count": 1,
   "id": "4325dc37-c2c9-4cc7-b3bf-08eacb9727b7",
   "metadata": {},
   "outputs": [],
   "source": [
    "#Loop Statement >> It allows you to execute a block of code repeatedly.\n",
    "#Loop types>> While lolop and For loop."
   ]
  },
  {
   "cell_type": "code",
   "execution_count": 3,
   "id": "36d30b51-40ec-4935-85b0-c44b5b9f5fa8",
   "metadata": {},
   "outputs": [],
   "source": [
    "#WHILE LOOP>> It repeatedly executes a block of code  until a condiution is met.\n",
    "#SYNTAX\n",
    "#while condition:\n",
    "#  block of code\n",
    "#\n",
    "#>> it is kepword used for while loop\n"
   ]
  },
  {
   "cell_type": "code",
   "execution_count": 6,
   "id": "8e9d07df-cf7f-44d3-94fe-2f6233f9ebfc",
   "metadata": {},
   "outputs": [
    {
     "name": "stdout",
     "output_type": "stream",
     "text": [
      "1\n",
      "2\n",
      "3\n",
      "4\n",
      "5\n",
      "6\n"
     ]
    }
   ],
   "source": [
    "n=7\n",
    "i=1\n",
    "while i<n:\n",
    "    print(i)\n",
    "    i=i+1"
   ]
  },
  {
   "cell_type": "code",
   "execution_count": 2,
   "id": "5a154c56-3b95-468f-8b03-0b163519bf73",
   "metadata": {},
   "outputs": [
    {
     "name": "stdout",
     "output_type": "stream",
     "text": [
      "5\n",
      "4\n",
      "3\n",
      "2\n",
      "1\n"
     ]
    }
   ],
   "source": [
    "count =5\n",
    "while count >0:\n",
    "    print(count)\n",
    "    count =count-1"
   ]
  },
  {
   "cell_type": "code",
   "execution_count": 3,
   "id": "ed75ce32-f878-4f99-a21b-c6539b0318cf",
   "metadata": {},
   "outputs": [
    {
     "name": "stdout",
     "output_type": "stream",
     "text": [
      "5\n",
      "4\n",
      "3\n",
      "2\n",
      "1\n",
      "This will run when the while loop executed successfully without any break\n"
     ]
    }
   ],
   "source": [
    "count =5\n",
    "while count >0:\n",
    "    print(count)\n",
    "    count =count-1\n",
    "else:\n",
    "    print(\"This will run when the while loop executed successfully without any break\")"
   ]
  },
  {
   "cell_type": "code",
   "execution_count": 4,
   "id": "348c7a37-af86-4b81-a46e-56365ecc437e",
   "metadata": {},
   "outputs": [
    {
     "name": "stdout",
     "output_type": "stream",
     "text": [
      "5\n",
      "4\n"
     ]
    }
   ],
   "source": [
    "#Break terminated or exits the loop\n",
    "#The condition is met then it will break the loop\n",
    "count =5\n",
    "while count >0:\n",
    "    print(count)\n",
    "    count =count-1\n",
    "    if count==3:\n",
    "        break\n",
    "else:\n",
    "    print(\"This will run when the while loop executed successfully without any break\")"
   ]
  },
  {
   "cell_type": "code",
   "execution_count": 6,
   "id": "c7d59125-8480-40aa-8dbf-5581d94fbc55",
   "metadata": {},
   "outputs": [
    {
     "ename": "IndentationError",
     "evalue": "unexpected indent (2516218997.py, line 8)",
     "output_type": "error",
     "traceback": [
      "\u001b[1;36m  Cell \u001b[1;32mIn[6], line 8\u001b[1;36m\u001b[0m\n\u001b[1;33m    print(count)\u001b[0m\n\u001b[1;37m    ^\u001b[0m\n\u001b[1;31mIndentationError\u001b[0m\u001b[1;31m:\u001b[0m unexpected indent\n"
     ]
    }
   ],
   "source": [
    "#Continue Statement>>It skips the iteration\n",
    "count =5\n",
    "while count >0:\n",
    "    count =count-1\n",
    "   \n",
    "    if count==3:\n",
    "       continue\n",
    "    print(count)\n",
    "    \n",
    "        \n",
    "else:\n",
    "    print(\"This will run when the while loop executed successfully without any break\")"
   ]
  },
  {
   "cell_type": "code",
   "execution_count": null,
   "id": "f6afbacd-9ff1-40ae-8b0f-0751e7cf5ec1",
   "metadata": {},
   "outputs": [],
   "source": []
  }
 ],
 "metadata": {
  "kernelspec": {
   "display_name": "Python 3 (ipykernel)",
   "language": "python",
   "name": "python3"
  },
  "language_info": {
   "codemirror_mode": {
    "name": "ipython",
    "version": 3
   },
   "file_extension": ".py",
   "mimetype": "text/x-python",
   "name": "python",
   "nbconvert_exporter": "python",
   "pygments_lexer": "ipython3",
   "version": "3.12.5"
  }
 },
 "nbformat": 4,
 "nbformat_minor": 5
}
