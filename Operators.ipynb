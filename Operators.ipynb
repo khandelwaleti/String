{
 "cells": [
  {
   "cell_type": "code",
   "execution_count": 1,
   "id": "c7cad067-3121-4e02-a2fa-9771187b974f",
   "metadata": {},
   "outputs": [],
   "source": [
    "#operators >> special keywords to perform operations >> manage and computation"
   ]
  },
  {
   "cell_type": "code",
   "execution_count": 2,
   "id": "0c440852-0abb-46fa-a112-d603ce5423af",
   "metadata": {},
   "outputs": [
    {
     "data": {
      "text/plain": [
       "17"
      ]
     },
     "execution_count": 2,
     "metadata": {},
     "output_type": "execute_result"
    }
   ],
   "source": [
    "a=8\n",
    "b=9\n",
    "a+b"
   ]
  },
  {
   "cell_type": "code",
   "execution_count": 3,
   "id": "2c160e18-0a20-49de-9422-23dca891c6f8",
   "metadata": {},
   "outputs": [],
   "source": [
    "#Arithmetic operators"
   ]
  },
  {
   "cell_type": "code",
   "execution_count": 4,
   "id": "f4e3ec84-a457-4df0-8617-58adea8e3acc",
   "metadata": {},
   "outputs": [],
   "source": [
    "add = a+b"
   ]
  },
  {
   "cell_type": "code",
   "execution_count": 5,
   "id": "517bc99c-2f81-40c8-9074-1925a298ad07",
   "metadata": {},
   "outputs": [
    {
     "data": {
      "text/plain": [
       "17"
      ]
     },
     "execution_count": 5,
     "metadata": {},
     "output_type": "execute_result"
    }
   ],
   "source": [
    "add"
   ]
  },
  {
   "cell_type": "code",
   "execution_count": 6,
   "id": "a460407d-f196-4e90-99c1-4816f2cc7d52",
   "metadata": {},
   "outputs": [
    {
     "data": {
      "text/plain": [
       "97"
      ]
     },
     "execution_count": 6,
     "metadata": {},
     "output_type": "execute_result"
    }
   ],
   "source": [
    "100-3"
   ]
  },
  {
   "cell_type": "code",
   "execution_count": 7,
   "id": "56fe2f8c-7997-4b7e-9f4f-89e2f7cdebbc",
   "metadata": {},
   "outputs": [
    {
     "data": {
      "text/plain": [
       "-4"
      ]
     },
     "execution_count": 7,
     "metadata": {},
     "output_type": "execute_result"
    }
   ],
   "source": [
    "3-7"
   ]
  },
  {
   "cell_type": "code",
   "execution_count": 8,
   "id": "58ed02c4-ee48-4c8f-bc09-2b8caeae15ae",
   "metadata": {},
   "outputs": [],
   "source": [
    "a=7\n",
    "b=11\n",
    "sub= a-b"
   ]
  },
  {
   "cell_type": "code",
   "execution_count": 9,
   "id": "2f81890a-4674-4cb9-a89e-e5818adc793d",
   "metadata": {},
   "outputs": [
    {
     "data": {
      "text/plain": [
       "-4"
      ]
     },
     "execution_count": 9,
     "metadata": {},
     "output_type": "execute_result"
    }
   ],
   "source": [
    "sub"
   ]
  },
  {
   "cell_type": "code",
   "execution_count": 10,
   "id": "6580b046-5e5e-4745-a061-72dd66d3db5b",
   "metadata": {},
   "outputs": [
    {
     "data": {
      "text/plain": [
       "24"
      ]
     },
     "execution_count": 10,
     "metadata": {},
     "output_type": "execute_result"
    }
   ],
   "source": [
    "3*8"
   ]
  },
  {
   "cell_type": "code",
   "execution_count": 11,
   "id": "64def79b-809d-4083-937c-bcdfde5f0aae",
   "metadata": {},
   "outputs": [
    {
     "data": {
      "text/plain": [
       "5.25"
      ]
     },
     "execution_count": 11,
     "metadata": {},
     "output_type": "execute_result"
    }
   ],
   "source": [
    "21/4"
   ]
  },
  {
   "cell_type": "code",
   "execution_count": 12,
   "id": "dddfb227-075d-4899-9196-5cf9df17c649",
   "metadata": {},
   "outputs": [
    {
     "data": {
      "text/plain": [
       "7.0"
      ]
     },
     "execution_count": 12,
     "metadata": {},
     "output_type": "execute_result"
    }
   ],
   "source": [
    "21/3"
   ]
  },
  {
   "cell_type": "code",
   "execution_count": 13,
   "id": "2ae94625-a3dd-4f16-a1d7-bc3c0024d638",
   "metadata": {},
   "outputs": [],
   "source": [
    "#Modulus operator >> for reminder>>%"
   ]
  },
  {
   "cell_type": "code",
   "execution_count": 14,
   "id": "9f2dd673-2880-4466-840a-05410cfd7809",
   "metadata": {},
   "outputs": [
    {
     "data": {
      "text/plain": [
       "5.25"
      ]
     },
     "execution_count": 14,
     "metadata": {},
     "output_type": "execute_result"
    }
   ],
   "source": [
    "21/4\n"
   ]
  },
  {
   "cell_type": "code",
   "execution_count": 15,
   "id": "e2623940-1eac-45a6-bca7-d488baf7eed5",
   "metadata": {},
   "outputs": [
    {
     "data": {
      "text/plain": [
       "1"
      ]
     },
     "execution_count": 15,
     "metadata": {},
     "output_type": "execute_result"
    }
   ],
   "source": [
    "21 %4"
   ]
  },
  {
   "cell_type": "code",
   "execution_count": 16,
   "id": "2ed475fd-2bed-4b14-ad33-a762af913403",
   "metadata": {},
   "outputs": [],
   "source": [
    "## two strik (**) is power"
   ]
  },
  {
   "cell_type": "code",
   "execution_count": 17,
   "id": "2ef9eafe-4c79-4668-8f1e-4301c35fc5e3",
   "metadata": {},
   "outputs": [
    {
     "data": {
      "text/plain": [
       "32"
      ]
     },
     "execution_count": 17,
     "metadata": {},
     "output_type": "execute_result"
    }
   ],
   "source": [
    "2**5 #2 to the power 5 "
   ]
  },
  {
   "cell_type": "code",
   "execution_count": 18,
   "id": "8e9e98fa-2fe6-4c74-a37b-60ee6449797b",
   "metadata": {},
   "outputs": [
    {
     "data": {
      "text/plain": [
       "88817841970012523233890533447265625"
      ]
     },
     "execution_count": 18,
     "metadata": {},
     "output_type": "execute_result"
    }
   ],
   "source": [
    "5**50"
   ]
  },
  {
   "cell_type": "code",
   "execution_count": 19,
   "id": "b94f9b99-1068-49f8-b2cc-cd81634a0568",
   "metadata": {},
   "outputs": [
    {
     "data": {
      "text/plain": [
       "1.3333333333333333"
      ]
     },
     "execution_count": 19,
     "metadata": {},
     "output_type": "execute_result"
    }
   ],
   "source": [
    "4 / 3"
   ]
  },
  {
   "cell_type": "code",
   "execution_count": 20,
   "id": "e4381b73-59cf-4010-8e0e-0386545d23af",
   "metadata": {},
   "outputs": [
    {
     "data": {
      "text/plain": [
       "1"
      ]
     },
     "execution_count": 20,
     "metadata": {},
     "output_type": "execute_result"
    }
   ],
   "source": [
    "4 // 3 # florr opearator  >> bringing the value on the lower side"
   ]
  },
  {
   "cell_type": "code",
   "execution_count": null,
   "id": "db7bce7f-c423-4930-9244-7325c677e18b",
   "metadata": {},
   "outputs": [],
   "source": []
  },
  {
   "cell_type": "code",
   "execution_count": null,
   "id": "757e22b2-2352-464b-b59c-1d934b277b96",
   "metadata": {},
   "outputs": [],
   "source": []
  },
  {
   "cell_type": "code",
   "execution_count": 21,
   "id": "04997013-6617-4e82-901e-3d5421cf9008",
   "metadata": {},
   "outputs": [],
   "source": [
    "# COMPARISON OPERATORS >> compare two values>> return a boolean value "
   ]
  },
  {
   "cell_type": "code",
   "execution_count": 22,
   "id": "38dc1e4a-22ad-4d58-befb-3e326b27d4e9",
   "metadata": {},
   "outputs": [
    {
     "data": {
      "text/plain": [
       "True"
      ]
     },
     "execution_count": 22,
     "metadata": {},
     "output_type": "execute_result"
    }
   ],
   "source": [
    "2==2 # double equal is to compare the values"
   ]
  },
  {
   "cell_type": "code",
   "execution_count": 23,
   "id": "1769e8de-e6d5-49fc-9b13-89c9f2deac99",
   "metadata": {},
   "outputs": [],
   "source": [
    "a=2 # single equal is for assigning the value"
   ]
  },
  {
   "cell_type": "code",
   "execution_count": 24,
   "id": "3c60bfac-f5a7-4e65-bff0-9ff58878f91b",
   "metadata": {},
   "outputs": [
    {
     "data": {
      "text/plain": [
       "2"
      ]
     },
     "execution_count": 24,
     "metadata": {},
     "output_type": "execute_result"
    }
   ],
   "source": [
    "a"
   ]
  },
  {
   "cell_type": "code",
   "execution_count": 25,
   "id": "1718470a-0f2e-4fe3-986f-a2b4c7f45254",
   "metadata": {},
   "outputs": [
    {
     "data": {
      "text/plain": [
       "False"
      ]
     },
     "execution_count": 25,
     "metadata": {},
     "output_type": "execute_result"
    }
   ],
   "source": [
    " 2 != 2"
   ]
  },
  {
   "cell_type": "code",
   "execution_count": 27,
   "id": "6c21eb8c-7c37-43a4-8bf8-9f581a59b414",
   "metadata": {},
   "outputs": [
    {
     "data": {
      "text/plain": [
       "True"
      ]
     },
     "execution_count": 27,
     "metadata": {},
     "output_type": "execute_result"
    }
   ],
   "source": [
    "10 !=2"
   ]
  },
  {
   "cell_type": "code",
   "execution_count": 28,
   "id": "3859b0b5-cd21-49b4-b1de-1e1b951ac433",
   "metadata": {},
   "outputs": [
    {
     "data": {
      "text/plain": [
       "True"
      ]
     },
     "execution_count": 28,
     "metadata": {},
     "output_type": "execute_result"
    }
   ],
   "source": [
    "10> 2"
   ]
  },
  {
   "cell_type": "code",
   "execution_count": 29,
   "id": "0d1f9416-16ca-4eb0-ad84-671458774df3",
   "metadata": {},
   "outputs": [
    {
     "data": {
      "text/plain": [
       "True"
      ]
     },
     "execution_count": 29,
     "metadata": {},
     "output_type": "execute_result"
    }
   ],
   "source": [
    "10>=2"
   ]
  },
  {
   "cell_type": "code",
   "execution_count": 30,
   "id": "453e6125-a4b6-4297-b584-cc62333aa075",
   "metadata": {},
   "outputs": [
    {
     "data": {
      "text/plain": [
       "True"
      ]
     },
     "execution_count": 30,
     "metadata": {},
     "output_type": "execute_result"
    }
   ],
   "source": [
    "10<=10"
   ]
  },
  {
   "cell_type": "code",
   "execution_count": 31,
   "id": "e3d8d117-85e4-41fa-98f1-b9556216a35f",
   "metadata": {},
   "outputs": [
    {
     "data": {
      "text/plain": [
       "False"
      ]
     },
     "execution_count": 31,
     "metadata": {},
     "output_type": "execute_result"
    }
   ],
   "source": [
    "10<2"
   ]
  },
  {
   "cell_type": "code",
   "execution_count": 32,
   "id": "d6a1c700-4721-4bed-bccc-f19eead348e9",
   "metadata": {},
   "outputs": [
    {
     "data": {
      "text/plain": [
       "True"
      ]
     },
     "execution_count": 32,
     "metadata": {},
     "output_type": "execute_result"
    }
   ],
   "source": [
    "12>=12"
   ]
  },
  {
   "cell_type": "code",
   "execution_count": null,
   "id": "e320e548-462a-4416-aa67-19ea8579b233",
   "metadata": {},
   "outputs": [],
   "source": []
  },
  {
   "cell_type": "code",
   "execution_count": 33,
   "id": "b6063f27-b64a-4f62-8290-eb56a8282e0c",
   "metadata": {},
   "outputs": [],
   "source": [
    "#LOGICAL OPERATORS\n",
    "#and\n",
    "#or"
   ]
  },
  {
   "cell_type": "code",
   "execution_count": 34,
   "id": "92e4ab81-db2d-4bcf-95e4-d536b423c17e",
   "metadata": {},
   "outputs": [
    {
     "data": {
      "text/plain": [
       "True"
      ]
     },
     "execution_count": 34,
     "metadata": {},
     "output_type": "execute_result"
    }
   ],
   "source": [
    "True and True"
   ]
  },
  {
   "cell_type": "code",
   "execution_count": 35,
   "id": "98a8e401-59a8-4e99-9355-3314cd85bd1e",
   "metadata": {},
   "outputs": [
    {
     "data": {
      "text/plain": [
       "1"
      ]
     },
     "execution_count": 35,
     "metadata": {},
     "output_type": "execute_result"
    }
   ],
   "source": [
    "True - False"
   ]
  },
  {
   "cell_type": "code",
   "execution_count": 36,
   "id": "15201f68-f9d9-40e7-8de6-d16355f8ba74",
   "metadata": {},
   "outputs": [
    {
     "data": {
      "text/plain": [
       "False"
      ]
     },
     "execution_count": 36,
     "metadata": {},
     "output_type": "execute_result"
    }
   ],
   "source": [
    "True and False"
   ]
  },
  {
   "cell_type": "code",
   "execution_count": 37,
   "id": "6d7ce812-ac06-4a0b-9448-c1c48735d72b",
   "metadata": {},
   "outputs": [
    {
     "data": {
      "text/plain": [
       "False"
      ]
     },
     "execution_count": 37,
     "metadata": {},
     "output_type": "execute_result"
    }
   ],
   "source": [
    "False and False"
   ]
  },
  {
   "cell_type": "code",
   "execution_count": 38,
   "id": "8819687f-8c9c-479b-85f3-af569b8c6fbe",
   "metadata": {},
   "outputs": [
    {
     "data": {
      "text/plain": [
       "False"
      ]
     },
     "execution_count": 38,
     "metadata": {},
     "output_type": "execute_result"
    }
   ],
   "source": [
    "False and True"
   ]
  },
  {
   "cell_type": "code",
   "execution_count": 39,
   "id": "2ccb4a11-8050-4727-bcdf-f7950ac79c15",
   "metadata": {},
   "outputs": [
    {
     "data": {
      "text/plain": [
       "True"
      ]
     },
     "execution_count": 39,
     "metadata": {},
     "output_type": "execute_result"
    }
   ],
   "source": [
    "True or True"
   ]
  },
  {
   "cell_type": "code",
   "execution_count": 40,
   "id": "d6585446-1412-4081-865f-58e7a1e56a23",
   "metadata": {},
   "outputs": [
    {
     "data": {
      "text/plain": [
       "True"
      ]
     },
     "execution_count": 40,
     "metadata": {},
     "output_type": "execute_result"
    }
   ],
   "source": [
    "True or False"
   ]
  },
  {
   "cell_type": "code",
   "execution_count": 41,
   "id": "fafd71b9-aa19-4501-ba29-b0e18f755100",
   "metadata": {},
   "outputs": [
    {
     "data": {
      "text/plain": [
       "True"
      ]
     },
     "execution_count": 41,
     "metadata": {},
     "output_type": "execute_result"
    }
   ],
   "source": [
    "False or True"
   ]
  },
  {
   "cell_type": "code",
   "execution_count": 43,
   "id": "1dc82353-44be-4396-9739-8b1d6fe33908",
   "metadata": {},
   "outputs": [
    {
     "data": {
      "text/plain": [
       "False"
      ]
     },
     "execution_count": 43,
     "metadata": {},
     "output_type": "execute_result"
    }
   ],
   "source": [
    "False or False"
   ]
  },
  {
   "cell_type": "code",
   "execution_count": 45,
   "id": "2663d309-f484-45c6-a433-d30121e4b1b9",
   "metadata": {},
   "outputs": [
    {
     "data": {
      "text/plain": [
       "False"
      ]
     },
     "execution_count": 45,
     "metadata": {},
     "output_type": "execute_result"
    }
   ],
   "source": [
    "#Not operator\n",
    "not True\n"
   ]
  },
  {
   "cell_type": "code",
   "execution_count": 46,
   "id": "ac05f7c9-f951-4343-86db-9670938ac63e",
   "metadata": {},
   "outputs": [
    {
     "data": {
      "text/plain": [
       "True"
      ]
     },
     "execution_count": 46,
     "metadata": {},
     "output_type": "execute_result"
    }
   ],
   "source": [
    "not False"
   ]
  },
  {
   "cell_type": "code",
   "execution_count": 47,
   "id": "cd09e6f6-2bfc-4f86-b261-ff8b1660a889",
   "metadata": {},
   "outputs": [],
   "source": [
    "# Assignment operator"
   ]
  },
  {
   "cell_type": "code",
   "execution_count": 48,
   "id": "19819404-5152-48f9-a38f-5a05970b382f",
   "metadata": {},
   "outputs": [],
   "source": [
    "a=10"
   ]
  },
  {
   "cell_type": "code",
   "execution_count": 49,
   "id": "46da6e96-2169-4c4a-a90b-bf8331a6e8e7",
   "metadata": {},
   "outputs": [
    {
     "data": {
      "text/plain": [
       "10"
      ]
     },
     "execution_count": 49,
     "metadata": {},
     "output_type": "execute_result"
    }
   ],
   "source": [
    "a"
   ]
  },
  {
   "cell_type": "code",
   "execution_count": 50,
   "id": "a77d25be-8ba6-4824-8b69-c52da96adafa",
   "metadata": {},
   "outputs": [
    {
     "data": {
      "text/plain": [
       "15"
      ]
     },
     "execution_count": 50,
     "metadata": {},
     "output_type": "execute_result"
    }
   ],
   "source": [
    "a+5\n"
   ]
  },
  {
   "cell_type": "code",
   "execution_count": 51,
   "id": "61dc8d34-bc42-4452-b167-e9ec54e87813",
   "metadata": {},
   "outputs": [
    {
     "data": {
      "text/plain": [
       "16"
      ]
     },
     "execution_count": 51,
     "metadata": {},
     "output_type": "execute_result"
    }
   ],
   "source": [
    "b=10\n",
    "b+6\n"
   ]
  },
  {
   "cell_type": "code",
   "execution_count": 52,
   "id": "91aab98b-e5e6-47e5-933b-1737acf0e084",
   "metadata": {},
   "outputs": [],
   "source": [
    "b=b+10"
   ]
  },
  {
   "cell_type": "code",
   "execution_count": 53,
   "id": "0702652e-485a-48a7-bed9-885681782cd1",
   "metadata": {},
   "outputs": [
    {
     "data": {
      "text/plain": [
       "20"
      ]
     },
     "execution_count": 53,
     "metadata": {},
     "output_type": "execute_result"
    }
   ],
   "source": [
    "b"
   ]
  },
  {
   "cell_type": "code",
   "execution_count": 54,
   "id": "e0c2837e-861b-4112-ac9b-86d83eb9d969",
   "metadata": {},
   "outputs": [
    {
     "data": {
      "text/plain": [
       "25"
      ]
     },
     "execution_count": 54,
     "metadata": {},
     "output_type": "execute_result"
    }
   ],
   "source": [
    "b+=5\n",
    "b\n"
   ]
  },
  {
   "cell_type": "code",
   "execution_count": 55,
   "id": "f8a7f077-4d42-4e21-96e5-2bcdb5a3ecb4",
   "metadata": {},
   "outputs": [
    {
     "data": {
      "text/plain": [
       "15"
      ]
     },
     "execution_count": 55,
     "metadata": {},
     "output_type": "execute_result"
    }
   ],
   "source": [
    "b-=10\n",
    "b\n"
   ]
  },
  {
   "cell_type": "code",
   "execution_count": 56,
   "id": "46c10de2-0758-4962-828d-ed9080fb295d",
   "metadata": {},
   "outputs": [],
   "source": [
    "b*=10"
   ]
  },
  {
   "cell_type": "code",
   "execution_count": 57,
   "id": "540399c5-a792-4d12-9443-d792ff035e3e",
   "metadata": {},
   "outputs": [
    {
     "data": {
      "text/plain": [
       "150"
      ]
     },
     "execution_count": 57,
     "metadata": {},
     "output_type": "execute_result"
    }
   ],
   "source": [
    "b"
   ]
  },
  {
   "cell_type": "code",
   "execution_count": 58,
   "id": "f22d3989-ccca-4c6d-900b-6e7689ac6a70",
   "metadata": {},
   "outputs": [],
   "source": [
    "b/=2"
   ]
  },
  {
   "cell_type": "code",
   "execution_count": 59,
   "id": "b69bf3d8-d08a-444a-b549-419d970ac591",
   "metadata": {},
   "outputs": [
    {
     "data": {
      "text/plain": [
       "75.0"
      ]
     },
     "execution_count": 59,
     "metadata": {},
     "output_type": "execute_result"
    }
   ],
   "source": [
    "b"
   ]
  },
  {
   "cell_type": "code",
   "execution_count": 60,
   "id": "c587b375-de33-4100-b1eb-b25b603dd317",
   "metadata": {},
   "outputs": [],
   "source": [
    "#MEMBERSHIP OPERATOR\n",
    "#in  and not in \n"
   ]
  },
  {
   "cell_type": "code",
   "execution_count": 61,
   "id": "2b4e2959-2d03-4010-9c3b-6f2216176035",
   "metadata": {},
   "outputs": [
    {
     "data": {
      "text/plain": [
       "True"
      ]
     },
     "execution_count": 61,
     "metadata": {},
     "output_type": "execute_result"
    }
   ],
   "source": [
    "a=\"pwskills\"\n",
    "\"p\" in a\n"
   ]
  },
  {
   "cell_type": "code",
   "execution_count": 62,
   "id": "fad268e9-f157-4f56-9dbb-6f6ceb6ebe79",
   "metadata": {},
   "outputs": [
    {
     "data": {
      "text/plain": [
       "False"
      ]
     },
     "execution_count": 62,
     "metadata": {},
     "output_type": "execute_result"
    }
   ],
   "source": [
    "\"p\" not in a"
   ]
  },
  {
   "cell_type": "code",
   "execution_count": 65,
   "id": "c13a9725-acfb-4b86-af82-fa7c0b7fcaee",
   "metadata": {},
   "outputs": [
    {
     "data": {
      "text/plain": [
       "True"
      ]
     },
     "execution_count": 65,
     "metadata": {},
     "output_type": "execute_result"
    }
   ],
   "source": [
    "b= \"Eti\"\n",
    "\"E\" in b"
   ]
  },
  {
   "cell_type": "code",
   "execution_count": 66,
   "id": "835baef3-9588-4d5d-921f-6e2ef18e2a5e",
   "metadata": {},
   "outputs": [
    {
     "data": {
      "text/plain": [
       "True"
      ]
     },
     "execution_count": 66,
     "metadata": {},
     "output_type": "execute_result"
    }
   ],
   "source": [
    "\"ti\" in b"
   ]
  },
  {
   "cell_type": "code",
   "execution_count": 67,
   "id": "736d988b-0c02-422b-96ab-3eba43ceb90b",
   "metadata": {},
   "outputs": [
    {
     "data": {
      "text/plain": [
       "True"
      ]
     },
     "execution_count": 67,
     "metadata": {},
     "output_type": "execute_result"
    }
   ],
   "source": [
    "\"Sh\" not in b"
   ]
  },
  {
   "cell_type": "code",
   "execution_count": 68,
   "id": "e251d97f-b146-4b13-93ea-bf57b96e98bd",
   "metadata": {},
   "outputs": [
    {
     "data": {
      "text/plain": [
       "True"
      ]
     },
     "execution_count": 68,
     "metadata": {},
     "output_type": "execute_result"
    }
   ],
   "source": [
    "a=[\"data\", \"analytics\", \"science\"]\n",
    "\"data\" in a"
   ]
  },
  {
   "cell_type": "code",
   "execution_count": 69,
   "id": "a2ead6bf-f7db-4c75-b467-326f5891b7dc",
   "metadata": {},
   "outputs": [
    {
     "data": {
      "text/plain": [
       "False"
      ]
     },
     "execution_count": 69,
     "metadata": {},
     "output_type": "execute_result"
    }
   ],
   "source": [
    "\"Eti\" in a"
   ]
  },
  {
   "cell_type": "code",
   "execution_count": 70,
   "id": "20bdb44a-b199-4bdf-b85b-d252a78db464",
   "metadata": {},
   "outputs": [],
   "source": [
    "#IDENTITY OPERATORS>> compares the location of two objects / variable"
   ]
  },
  {
   "cell_type": "code",
   "execution_count": 71,
   "id": "98bd19c4-80a5-4127-ab82-2a75d709a4c8",
   "metadata": {},
   "outputs": [],
   "source": [
    "a=2\n",
    "b=3"
   ]
  },
  {
   "cell_type": "code",
   "execution_count": 73,
   "id": "f42ca206-456e-477e-b611-550c5c83b1a1",
   "metadata": {},
   "outputs": [
    {
     "data": {
      "text/plain": [
       "True"
      ]
     },
     "execution_count": 73,
     "metadata": {},
     "output_type": "execute_result"
    }
   ],
   "source": [
    "a is b"
   ]
  },
  {
   "cell_type": "code",
   "execution_count": 74,
   "id": "5919f2f0-ee55-4c90-a955-e17c960e163e",
   "metadata": {},
   "outputs": [
    {
     "data": {
      "text/plain": [
       "False"
      ]
     },
     "execution_count": 74,
     "metadata": {},
     "output_type": "execute_result"
    }
   ],
   "source": [
    "a is not b"
   ]
  },
  {
   "cell_type": "code",
   "execution_count": 75,
   "id": "70b83edb-89f0-4174-ba42-9b1af6c10018",
   "metadata": {},
   "outputs": [],
   "source": [
    "a=2\n",
    "b=a"
   ]
  },
  {
   "cell_type": "code",
   "execution_count": 76,
   "id": "796bcb80-e9a9-4ea4-a85e-aaa2c5fdb5cd",
   "metadata": {},
   "outputs": [
    {
     "data": {
      "text/plain": [
       "True"
      ]
     },
     "execution_count": 76,
     "metadata": {},
     "output_type": "execute_result"
    }
   ],
   "source": [
    "a is b"
   ]
  },
  {
   "cell_type": "code",
   "execution_count": 78,
   "id": "d7107830-4335-4b69-b6b0-d7afb992c4db",
   "metadata": {},
   "outputs": [],
   "source": [
    "#BITWISE OPERATOR >> operations at bit level, manipulating the individual bits within integer"
   ]
  },
  {
   "cell_type": "code",
   "execution_count": 79,
   "id": "41b7292c-36f7-4f69-8d2d-5127067e377e",
   "metadata": {},
   "outputs": [
    {
     "data": {
      "text/plain": [
       "10"
      ]
     },
     "execution_count": 79,
     "metadata": {},
     "output_type": "execute_result"
    }
   ],
   "source": [
    "10 & 10"
   ]
  },
  {
   "cell_type": "code",
   "execution_count": 80,
   "id": "4e5dfeef-958f-473c-b5ef-a596094bfa12",
   "metadata": {},
   "outputs": [
    {
     "data": {
      "text/plain": [
       "'0b1010'"
      ]
     },
     "execution_count": 80,
     "metadata": {},
     "output_type": "execute_result"
    }
   ],
   "source": [
    "bin(10) #bitwise number of 10"
   ]
  },
  {
   "cell_type": "code",
   "execution_count": 81,
   "id": "21fb3e16-1184-422c-a451-9df7ea70dec5",
   "metadata": {},
   "outputs": [
    {
     "data": {
      "text/plain": [
       "2"
      ]
     },
     "execution_count": 81,
     "metadata": {},
     "output_type": "execute_result"
    }
   ],
   "source": [
    "18 & 3"
   ]
  },
  {
   "cell_type": "code",
   "execution_count": 82,
   "id": "8d4187fa-bed8-4ed3-a3ac-fbf6a48528f4",
   "metadata": {},
   "outputs": [
    {
     "data": {
      "text/plain": [
       "'0b10'"
      ]
     },
     "execution_count": 82,
     "metadata": {},
     "output_type": "execute_result"
    }
   ],
   "source": [
    "bin(2)"
   ]
  },
  {
   "cell_type": "code",
   "execution_count": 83,
   "id": "bf24ae59-5668-4319-9733-810400166817",
   "metadata": {},
   "outputs": [
    {
     "data": {
      "text/plain": [
       "3"
      ]
     },
     "execution_count": 83,
     "metadata": {},
     "output_type": "execute_result"
    }
   ],
   "source": [
    "3| 2\n"
   ]
  },
  {
   "cell_type": "code",
   "execution_count": 84,
   "id": "9d2e2847-0365-4091-ba7f-4aa8685808e8",
   "metadata": {},
   "outputs": [
    {
     "data": {
      "text/plain": [
       "5"
      ]
     },
     "execution_count": 84,
     "metadata": {},
     "output_type": "execute_result"
    }
   ],
   "source": [
    "5| 5"
   ]
  },
  {
   "cell_type": "code",
   "execution_count": 85,
   "id": "eaf9682c-e8bb-46ff-92d7-d48176fd98a2",
   "metadata": {},
   "outputs": [
    {
     "data": {
      "text/plain": [
       "10"
      ]
     },
     "execution_count": 85,
     "metadata": {},
     "output_type": "execute_result"
    }
   ],
   "source": [
    "10|2"
   ]
  },
  {
   "cell_type": "code",
   "execution_count": 86,
   "id": "4a4e8947-a586-4ea1-a4a1-d9cdea7bbe6e",
   "metadata": {},
   "outputs": [
    {
     "data": {
      "text/plain": [
       "10"
      ]
     },
     "execution_count": 86,
     "metadata": {},
     "output_type": "execute_result"
    }
   ],
   "source": [
    "10|0"
   ]
  },
  {
   "cell_type": "code",
   "execution_count": 87,
   "id": "8722ed5e-f8cc-4009-9c8d-4a99b6d6189f",
   "metadata": {},
   "outputs": [
    {
     "data": {
      "text/plain": [
       "7"
      ]
     },
     "execution_count": 87,
     "metadata": {},
     "output_type": "execute_result"
    }
   ],
   "source": [
    "3 | 5\n"
   ]
  },
  {
   "cell_type": "code",
   "execution_count": 89,
   "id": "06ee8c0e-8bd1-410e-8865-567fb03d89c0",
   "metadata": {},
   "outputs": [
    {
     "data": {
      "text/plain": [
       "'0b11'"
      ]
     },
     "execution_count": 89,
     "metadata": {},
     "output_type": "execute_result"
    }
   ],
   "source": [
    "bin(3)\n"
   ]
  },
  {
   "cell_type": "code",
   "execution_count": 90,
   "id": "dead02db-40dd-4f7b-8ac0-4dbf30cba682",
   "metadata": {},
   "outputs": [
    {
     "data": {
      "text/plain": [
       "'0b101'"
      ]
     },
     "execution_count": 90,
     "metadata": {},
     "output_type": "execute_result"
    }
   ],
   "source": [
    "bin(5)"
   ]
  },
  {
   "cell_type": "code",
   "execution_count": 91,
   "id": "65c86d7a-f6a7-4e5d-bf88-0232d155e4b9",
   "metadata": {},
   "outputs": [
    {
     "data": {
      "text/plain": [
       "'0b111'"
      ]
     },
     "execution_count": 91,
     "metadata": {},
     "output_type": "execute_result"
    }
   ],
   "source": [
    "bin(7)"
   ]
  },
  {
   "cell_type": "code",
   "execution_count": 93,
   "id": "a04d32cb-5491-4893-8b2c-5dc90d860985",
   "metadata": {},
   "outputs": [],
   "source": [
    "#negation \n",
    "#  ~ this is negation sysmbol"
   ]
  },
  {
   "cell_type": "code",
   "execution_count": 94,
   "id": "ba346d3f-fd87-4d03-b8e5-03936698f092",
   "metadata": {},
   "outputs": [
    {
     "data": {
      "text/plain": [
       "-4"
      ]
     },
     "execution_count": 94,
     "metadata": {},
     "output_type": "execute_result"
    }
   ],
   "source": [
    "~3"
   ]
  },
  {
   "cell_type": "code",
   "execution_count": 95,
   "id": "abe0026c-d014-49ac-a155-90466a32c610",
   "metadata": {},
   "outputs": [
    {
     "data": {
      "text/plain": [
       "-101"
      ]
     },
     "execution_count": 95,
     "metadata": {},
     "output_type": "execute_result"
    }
   ],
   "source": [
    "~100"
   ]
  },
  {
   "cell_type": "code",
   "execution_count": 96,
   "id": "61a9a61f-cad8-4a6c-8042-6e8274ec760e",
   "metadata": {},
   "outputs": [
    {
     "data": {
      "text/plain": [
       "-7"
      ]
     },
     "execution_count": 96,
     "metadata": {},
     "output_type": "execute_result"
    }
   ],
   "source": [
    "~6"
   ]
  },
  {
   "cell_type": "code",
   "execution_count": 97,
   "id": "975896fc-e237-45b9-8cac-95cab770cfbd",
   "metadata": {},
   "outputs": [],
   "source": [
    "#BITWISE XOR >> ^>> returns 1 when exactly one operand is 1"
   ]
  },
  {
   "cell_type": "code",
   "execution_count": 98,
   "id": "1a905203-86ff-4c4e-bd3e-e7a68863af7f",
   "metadata": {},
   "outputs": [
    {
     "data": {
      "text/plain": [
       "6"
      ]
     },
     "execution_count": 98,
     "metadata": {},
     "output_type": "execute_result"
    }
   ],
   "source": [
    "5^3"
   ]
  },
  {
   "cell_type": "code",
   "execution_count": 99,
   "id": "160ee394-e48e-40ff-a906-6be432d89c63",
   "metadata": {},
   "outputs": [
    {
     "data": {
      "text/plain": [
       "'0b101'"
      ]
     },
     "execution_count": 99,
     "metadata": {},
     "output_type": "execute_result"
    }
   ],
   "source": [
    "bin(5)"
   ]
  },
  {
   "cell_type": "code",
   "execution_count": 100,
   "id": "bf956ba3-31fe-4ecc-a794-3807419a8fcb",
   "metadata": {},
   "outputs": [
    {
     "data": {
      "text/plain": [
       "'0b11'"
      ]
     },
     "execution_count": 100,
     "metadata": {},
     "output_type": "execute_result"
    }
   ],
   "source": [
    "bin(3)"
   ]
  },
  {
   "cell_type": "code",
   "execution_count": 101,
   "id": "3eaa3e19-6994-45a0-a4a7-593adecaabd4",
   "metadata": {},
   "outputs": [
    {
     "data": {
      "text/plain": [
       "'0b110'"
      ]
     },
     "execution_count": 101,
     "metadata": {},
     "output_type": "execute_result"
    }
   ],
   "source": [
    "bin(6)"
   ]
  },
  {
   "cell_type": "code",
   "execution_count": 102,
   "id": "ff4f5a77-7d3d-418c-b4b6-cdd006ccb59e",
   "metadata": {},
   "outputs": [],
   "source": [
    "#SHIFT OPERATOR:- there atre two types of shift operator and they are 1. LEFT SHIFT 2. RIGHT SHIFT\n",
    "#Shifts the biyts by left or right."
   ]
  },
  {
   "cell_type": "code",
   "execution_count": 103,
   "id": "a968f9e9-e0b9-4f55-b5be-51c1ddc1210a",
   "metadata": {},
   "outputs": [
    {
     "data": {
      "text/plain": [
       "280"
      ]
     },
     "execution_count": 103,
     "metadata": {},
     "output_type": "execute_result"
    }
   ],
   "source": [
    "#LEFT SHIFT OPERATOR = << :- shifts the bit to the left by a specified number of position, by filling  zeros on the right\n",
    "35 << 3"
   ]
  },
  {
   "cell_type": "code",
   "execution_count": 104,
   "id": "e50a26ea-1032-4bb7-bad8-592705657063",
   "metadata": {},
   "outputs": [
    {
     "data": {
      "text/plain": [
       "'0b100011'"
      ]
     },
     "execution_count": 104,
     "metadata": {},
     "output_type": "execute_result"
    }
   ],
   "source": [
    "bin(35)"
   ]
  },
  {
   "cell_type": "code",
   "execution_count": 105,
   "id": "6f900103-9fa6-4e34-865f-e567fd3c4ce4",
   "metadata": {},
   "outputs": [
    {
     "data": {
      "text/plain": [
       "'0b100011000'"
      ]
     },
     "execution_count": 105,
     "metadata": {},
     "output_type": "execute_result"
    }
   ],
   "source": [
    "bin(280)"
   ]
  },
  {
   "cell_type": "code",
   "execution_count": 106,
   "id": "f86f9a20-89c1-452d-99e8-b987891e17d0",
   "metadata": {},
   "outputs": [
    {
     "data": {
      "text/plain": [
       "10"
      ]
     },
     "execution_count": 106,
     "metadata": {},
     "output_type": "execute_result"
    }
   ],
   "source": [
    "5 << 1 #left shift by one"
   ]
  },
  {
   "cell_type": "code",
   "execution_count": 107,
   "id": "9feac18d-51cd-44e8-bb1d-ab807aa02d01",
   "metadata": {},
   "outputs": [
    {
     "data": {
      "text/plain": [
       "'0b101'"
      ]
     },
     "execution_count": 107,
     "metadata": {},
     "output_type": "execute_result"
    }
   ],
   "source": [
    "bin(5)"
   ]
  },
  {
   "cell_type": "code",
   "execution_count": 108,
   "id": "6c052c26-aef5-454e-841d-c4d5eb510459",
   "metadata": {},
   "outputs": [
    {
     "data": {
      "text/plain": [
       "'0b1010'"
      ]
     },
     "execution_count": 108,
     "metadata": {},
     "output_type": "execute_result"
    }
   ],
   "source": [
    "bin(10)"
   ]
  },
  {
   "cell_type": "code",
   "execution_count": 109,
   "id": "e6c46d30-8d4d-4713-b90b-beb1605b62ea",
   "metadata": {},
   "outputs": [],
   "source": [
    "#RIGHT SHIFT OPERATOR:- >>, remove the number of element in the binary from last"
   ]
  },
  {
   "cell_type": "code",
   "execution_count": 110,
   "id": "d9e7e870-eb0c-48ca-9c5e-b3f2b86882e4",
   "metadata": {},
   "outputs": [
    {
     "data": {
      "text/plain": [
       "35"
      ]
     },
     "execution_count": 110,
     "metadata": {},
     "output_type": "execute_result"
    }
   ],
   "source": [
    "280>>3"
   ]
  },
  {
   "cell_type": "code",
   "execution_count": 111,
   "id": "9f3dca9c-bb84-4db4-a66b-cd8cb4ff7231",
   "metadata": {},
   "outputs": [
    {
     "data": {
      "text/plain": [
       "'0b100011000'"
      ]
     },
     "execution_count": 111,
     "metadata": {},
     "output_type": "execute_result"
    }
   ],
   "source": [
    "bin(280)"
   ]
  },
  {
   "cell_type": "code",
   "execution_count": 112,
   "id": "74df6943-ab92-4bb4-874b-7295423e14f4",
   "metadata": {},
   "outputs": [
    {
     "data": {
      "text/plain": [
       "'0b100011'"
      ]
     },
     "execution_count": 112,
     "metadata": {},
     "output_type": "execute_result"
    }
   ],
   "source": [
    "bin(35)"
   ]
  },
  {
   "cell_type": "code",
   "execution_count": 113,
   "id": "cd002935-af9f-48e3-b549-1ea65319836f",
   "metadata": {},
   "outputs": [
    {
     "data": {
      "text/plain": [
       "5"
      ]
     },
     "execution_count": 113,
     "metadata": {},
     "output_type": "execute_result"
    }
   ],
   "source": [
    "10>>1\n"
   ]
  },
  {
   "cell_type": "code",
   "execution_count": 114,
   "id": "2b84eaec-009a-4220-8d98-be4ece5fdd40",
   "metadata": {},
   "outputs": [
    {
     "data": {
      "text/plain": [
       "'0b1010'"
      ]
     },
     "execution_count": 114,
     "metadata": {},
     "output_type": "execute_result"
    }
   ],
   "source": [
    "bin(10)"
   ]
  },
  {
   "cell_type": "code",
   "execution_count": 115,
   "id": "74a022a7-1fb3-48a6-b927-b846c871bef4",
   "metadata": {},
   "outputs": [
    {
     "data": {
      "text/plain": [
       "'0b101'"
      ]
     },
     "execution_count": 115,
     "metadata": {},
     "output_type": "execute_result"
    }
   ],
   "source": [
    "bin(5)"
   ]
  },
  {
   "cell_type": "code",
   "execution_count": 116,
   "id": "fe67ba5b-2483-4089-9bfc-e65a9d65167d",
   "metadata": {},
   "outputs": [],
   "source": [
    "#ORDER OF PRESEDENCE IN PYTHON\n",
    "#execution of  python statement willl be from left to right"
   ]
  },
  {
   "cell_type": "code",
   "execution_count": 117,
   "id": "75ecd2d3-aea2-4ee2-99cd-1ffc5e837213",
   "metadata": {},
   "outputs": [],
   "source": [
    "b=8"
   ]
  },
  {
   "cell_type": "code",
   "execution_count": 118,
   "id": "6e5c0a10-01ab-4437-ba3c-b5b7dadf5bf3",
   "metadata": {},
   "outputs": [
    {
     "data": {
      "text/plain": [
       "13"
      ]
     },
     "execution_count": 118,
     "metadata": {},
     "output_type": "execute_result"
    }
   ],
   "source": [
    "b+=5\n",
    "b"
   ]
  },
  {
   "cell_type": "code",
   "execution_count": 120,
   "id": "a9a770b8-0726-4864-9139-4927c6258bed",
   "metadata": {},
   "outputs": [
    {
     "data": {
      "text/plain": [
       "-1"
      ]
     },
     "execution_count": 120,
     "metadata": {},
     "output_type": "execute_result"
    }
   ],
   "source": [
    "2+5-8"
   ]
  },
  {
   "cell_type": "code",
   "execution_count": 121,
   "id": "1ee9a98f-7ecf-4f96-a8a3-19260142c420",
   "metadata": {},
   "outputs": [],
   "source": [
    "#Always parantheseis will be executed first"
   ]
  },
  {
   "cell_type": "code",
   "execution_count": 124,
   "id": "796cd103-fafc-45bd-8d52-8b504dff076b",
   "metadata": {},
   "outputs": [
    {
     "data": {
      "text/plain": [
       "4"
      ]
     },
     "execution_count": 124,
     "metadata": {},
     "output_type": "execute_result"
    }
   ],
   "source": [
    "(5+3) -4"
   ]
  },
  {
   "cell_type": "code",
   "execution_count": 125,
   "id": "9e173382-1988-49cf-8dcc-c4b746caefb4",
   "metadata": {},
   "outputs": [
    {
     "data": {
      "text/plain": [
       "-4"
      ]
     },
     "execution_count": 125,
     "metadata": {},
     "output_type": "execute_result"
    }
   ],
   "source": [
    "4-(5+3)"
   ]
  },
  {
   "cell_type": "code",
   "execution_count": 126,
   "id": "76006907-fc7a-4e24-8db0-9902c6bbece0",
   "metadata": {},
   "outputs": [
    {
     "data": {
      "text/plain": [
       "19.0"
      ]
     },
     "execution_count": 126,
     "metadata": {},
     "output_type": "execute_result"
    }
   ],
   "source": [
    "(10 +5) + (8/2)"
   ]
  },
  {
   "cell_type": "code",
   "execution_count": null,
   "id": "3b1eb3d3-612b-46d9-b5b8-f198c2a972af",
   "metadata": {},
   "outputs": [],
   "source": []
  }
 ],
 "metadata": {
  "kernelspec": {
   "display_name": "Python 3 (ipykernel)",
   "language": "python",
   "name": "python3"
  },
  "language_info": {
   "codemirror_mode": {
    "name": "ipython",
    "version": 3
   },
   "file_extension": ".py",
   "mimetype": "text/x-python",
   "name": "python",
   "nbconvert_exporter": "python",
   "pygments_lexer": "ipython3",
   "version": "3.12.5"
  }
 },
 "nbformat": 4,
 "nbformat_minor": 5
}
